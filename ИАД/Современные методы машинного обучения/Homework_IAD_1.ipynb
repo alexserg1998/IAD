{
 "cells": [
  {
   "cell_type": "markdown",
   "metadata": {
    "id": "e9A2xh3t0xYn"
   },
   "source": [
    "## Домашнее задание №1\n",
    "\n",
    "В этом домашнем задании вы познакомитесь с pytorch сами и сможете попрактиковаться в его применении. \n",
    "\n",
    "#### План:\n",
    "\n",
    "1. Простейшие операции в pytorch\n",
    "2. Пишем Adam и применяем его к ручной модели\n",
    "3. Обучаем свою первую нейросеть"
   ]
  },
  {
   "cell_type": "code",
   "execution_count": 2,
   "metadata": {
    "colab": {
     "base_uri": "https://localhost:8080/"
    },
    "id": "dGmrolHS09wz",
    "outputId": "c008e7fe-ca60-4869-c142-2bb2223dcb56"
   },
   "outputs": [
    {
     "data": {
      "text/plain": [
       "True"
      ]
     },
     "execution_count": 2,
     "metadata": {
      "tags": []
     },
     "output_type": "execute_result"
    }
   ],
   "source": [
    "import os\n",
    "import sys\n",
    "import math\n",
    "import torch\n",
    "import random\n",
    "import numpy as np\n",
    "from tqdm import tqdm\n",
    "import torch.nn.functional as F\n",
    "import torch.nn as nn\n",
    "import matplotlib.pyplot as plt\n",
    "from IPython.display import clear_output\n",
    "\n",
    "from torch.utils.data import DataLoader\n",
    "import torchvision\n",
    "import torchvision.transforms as transforms\n",
    "\n",
    "%matplotlib inline\n",
    "device = 'cuda'\n",
    "torch.cuda.is_available()"
   ]
  },
  {
   "cell_type": "code",
   "execution_count": 3,
   "metadata": {
    "id": "tNu4AhSCjryO"
   },
   "outputs": [],
   "source": [
    "random.seed(0)\n",
    "np.random.seed(0)\n",
    "torch.manual_seed(0)\n",
    "torch.backends.cudnn.deterministic = True"
   ]
  },
  {
   "cell_type": "markdown",
   "metadata": {
    "id": "XQfE8YZd04Q5"
   },
   "source": [
    "### Простейшие операции на pytorch (2 балла)"
   ]
  },
  {
   "cell_type": "markdown",
   "metadata": {
    "id": "bbd-SvKi1CKk"
   },
   "source": [
    "**Task**: Cоздайте два случайных тензора (двумерных, не квадратных):"
   ]
  },
  {
   "cell_type": "code",
   "execution_count": 4,
   "metadata": {
    "colab": {
     "base_uri": "https://localhost:8080/"
    },
    "id": "30q-9-bG1G2s",
    "outputId": "253480ed-e50a-4435-ba1f-26045305ff77"
   },
   "outputs": [
    {
     "name": "stdout",
     "output_type": "stream",
     "text": [
      "X =  tensor([[-1.1258, -1.1524, -0.2506, -0.4339],\n",
      "        [ 0.5988, -1.5551, -0.3414,  1.8530],\n",
      "        [ 0.4681, -0.1577,  1.4437,  0.2660],\n",
      "        [ 1.3894,  1.5863,  0.9463, -0.8437],\n",
      "        [ 0.9318,  1.2590,  2.0050,  0.0537]])  \n",
      "\n",
      " Y =  tensor([[-0.8920, -1.5091],\n",
      "        [ 0.3704,  1.4565],\n",
      "        [ 0.9398,  0.7748],\n",
      "        [ 0.1919,  1.2638]])\n"
     ]
    }
   ],
   "source": [
    "x = torch.randn((5, 4)) \n",
    "y = torch.randn((4, 2))\n",
    "print('X = ', x, ' \\n\\n Y = ', y)"
   ]
  },
  {
   "cell_type": "markdown",
   "metadata": {
    "id": "6QykoWMz9yhI"
   },
   "source": [
    "**Task**: Умножьте их друг на друга, результат запишите в третий тензор без использования оператора `=`, для создания третьего тензора предлагается использовать `torch.empty`:"
   ]
  },
  {
   "cell_type": "code",
   "execution_count": 5,
   "metadata": {
    "colab": {
     "base_uri": "https://localhost:8080/"
    },
    "id": "3YbCrYZFVe-j",
    "outputId": "1f523cb4-d152-4119-f1e8-38ddc4f86888"
   },
   "outputs": [
    {
     "name": "stdout",
     "output_type": "stream",
     "text": [
      "Z =  tensor([[ 0.2587, -0.7219],\n",
      "        [-1.0754, -1.0914],\n",
      "        [ 0.9319,  0.5187],\n",
      "        [ 0.0757, -0.1192],\n",
      "        [ 1.5298,  2.0490]])\n"
     ]
    }
   ],
   "source": [
    "size_z = torch.matmul(x,y).size()\n",
    "z = torch.empty(size_z[0], size_z[1])  \n",
    "torch.matmul(x, y, out=z)\n",
    "print('Z = ', z)"
   ]
  },
  {
   "cell_type": "markdown",
   "metadata": {
    "id": "G7wEMrU3-d7s"
   },
   "source": [
    "**Task**: Реализуйте ReLU использую только pytorch, примените его к тензору `x` (запрещено использование модулей torch.nn и его подмодулей, а также функции torch.relu)"
   ]
  },
  {
   "cell_type": "markdown",
   "metadata": {
    "id": "LG0j3DhpJCBL"
   },
   "source": [
    "Линейный выпрямитель или Полулинейный элемент (ReLU)"
   ]
  },
  {
   "cell_type": "markdown",
   "metadata": {
    "id": "adX6C6HSIt3H"
   },
   "source": [
    "$$\n",
    "f(x) = \n",
    "\\begin{cases}\n",
    " & 0, x < 0 \\\\ \n",
    " & x , x \\geq 0 \n",
    "\\end{cases}\n",
    "$$"
   ]
  },
  {
   "cell_type": "code",
   "execution_count": 6,
   "metadata": {
    "id": "4j4lpOMm-gAe"
   },
   "outputs": [],
   "source": [
    "def relu_forward(x):\n",
    "    ret = torch.max(torch.zeros_like(x), x)\n",
    "    return ret\n",
    "\n",
    "assert torch.all(F.relu(x) == relu_forward(x))"
   ]
  },
  {
   "cell_type": "code",
   "execution_count": 7,
   "metadata": {
    "colab": {
     "base_uri": "https://localhost:8080/"
    },
    "id": "NTjeMRTi-mfQ",
    "outputId": "c8ac2672-0e5e-4ffc-e1f1-99cc6670679a"
   },
   "outputs": [
    {
     "data": {
      "text/plain": [
       "tensor([[0.0000, 0.0000, 0.0000, 0.0000],\n",
       "        [0.5988, 0.0000, 0.0000, 1.8530],\n",
       "        [0.4681, 0.0000, 1.4437, 0.2660],\n",
       "        [1.3894, 1.5863, 0.9463, 0.0000],\n",
       "        [0.9318, 1.2590, 2.0050, 0.0537]])"
      ]
     },
     "execution_count": 7,
     "metadata": {
      "tags": []
     },
     "output_type": "execute_result"
    }
   ],
   "source": [
    "relu_forward(x)"
   ]
  },
  {
   "cell_type": "markdown",
   "metadata": {
    "id": "lB7t-6KmBSgc"
   },
   "source": [
    "**Task**: Сделайте тоже самое c ELU (запрещено использование модулей torch.nn и его подмодулей):"
   ]
  },
  {
   "cell_type": "markdown",
   "metadata": {
    "id": "5QnucNBgI6ev"
   },
   "source": [
    "Экспоненциальная линейная функция (ELU)"
   ]
  },
  {
   "cell_type": "markdown",
   "metadata": {
    "id": "YAKOX0kxDweg"
   },
   "source": [
    "$$\n",
    "f(\\alpha,x) = \n",
    "\\begin{cases}\n",
    " & \\alpha(e^x - 1 ), x < 0 \\\\ \n",
    " & x , x \\geq 0 \n",
    "\\end{cases}\n",
    "$$"
   ]
  },
  {
   "cell_type": "code",
   "execution_count": 8,
   "metadata": {
    "id": "2u9iA3jvBX1E"
   },
   "outputs": [],
   "source": [
    "def elu_forward(x, alpha = 1.0):\n",
    "    first_condition = torch.min(torch.zeros_like(x), alpha * (torch.exp(x) - 1)) # x < 0\n",
    "    second_condition = torch.max(torch.zeros_like(x), x) # x >= 0\n",
    "    ret = first_condition + second_condition\n",
    "    return ret\n",
    "\n",
    "assert torch.allclose(\n",
    "    F.elu(x),\n",
    "    elu_forward(x), \n",
    "    1e-4\n",
    ")"
   ]
  },
  {
   "cell_type": "code",
   "execution_count": 9,
   "metadata": {
    "colab": {
     "base_uri": "https://localhost:8080/"
    },
    "id": "cmFM2l04Aq5J",
    "outputId": "d3c6a672-32ae-4450-daec-79c73b001704"
   },
   "outputs": [
    {
     "data": {
      "text/plain": [
       "tensor([[-0.6756, -0.6841, -0.2216, -0.3520],\n",
       "        [ 0.5988, -0.7888, -0.2892,  1.8530],\n",
       "        [ 0.4681, -0.1459,  1.4437,  0.2660],\n",
       "        [ 1.3894,  1.5863,  0.9463, -0.5699],\n",
       "        [ 0.9318,  1.2590,  2.0050,  0.0537]])"
      ]
     },
     "execution_count": 9,
     "metadata": {
      "tags": []
     },
     "output_type": "execute_result"
    }
   ],
   "source": [
    "elu_forward(x)"
   ]
  },
  {
   "cell_type": "markdown",
   "metadata": {
    "id": "F9isChGRNcjp"
   },
   "source": [
    "**Task**: LeakyReLU (запрещено использование модулей torch.nn и его подмодулей):"
   ]
  },
  {
   "cell_type": "markdown",
   "metadata": {
    "id": "ToX9ewmeNeTC"
   },
   "source": [
    "Линейный выпрямитель с «утечкой» (Leaky ReLU)"
   ]
  },
  {
   "cell_type": "markdown",
   "metadata": {
    "id": "W6uRlGgFNuvh"
   },
   "source": [
    "$$\n",
    "f(x) = \n",
    "\\begin{cases}\n",
    " & 0.01x, x < 0 \\\\ \n",
    " & x , x \\geq 0 \n",
    "\\end{cases}\n",
    "$$"
   ]
  },
  {
   "cell_type": "code",
   "execution_count": 10,
   "metadata": {
    "id": "_ENNjLsWCf1s"
   },
   "outputs": [],
   "source": [
    "def lrelu_forward(x, alpha):\n",
    "  first_condition = torch.min(torch.zeros_like(x), alpha * x) # x < 0\n",
    "  second_condition = torch.max(torch.zeros_like(x), x) # x >= 0\n",
    "  ret = first_condition + second_condition\n",
    "  return ret\n",
    "\n",
    "assert torch.all(F.leaky_relu(x, 0.01) == lrelu_forward(x, 0.01))"
   ]
  },
  {
   "cell_type": "code",
   "execution_count": 11,
   "metadata": {
    "colab": {
     "base_uri": "https://localhost:8080/"
    },
    "id": "4M6CLuGCKRaE",
    "outputId": "c7d993a9-62d4-4618-d834-72f970744d08"
   },
   "outputs": [
    {
     "data": {
      "text/plain": [
       "tensor([[-1.1258e-02, -1.1524e-02, -2.5058e-03, -4.3388e-03],\n",
       "        [ 5.9884e-01, -1.5551e-02, -3.4136e-03,  1.8530e+00],\n",
       "        [ 4.6810e-01, -1.5771e-03,  1.4437e+00,  2.6605e-01],\n",
       "        [ 1.3894e+00,  1.5863e+00,  9.4630e-01, -8.4368e-03],\n",
       "        [ 9.3183e-01,  1.2590e+00,  2.0050e+00,  5.3737e-02]])"
      ]
     },
     "execution_count": 11,
     "metadata": {
      "tags": []
     },
     "output_type": "execute_result"
    }
   ],
   "source": [
    "lrelu_forward(x=x, alpha=0.01)"
   ]
  },
  {
   "cell_type": "markdown",
   "metadata": {
    "id": "VK_T2jIUDc2Y"
   },
   "source": [
    "**Task**: Теперь перейдем к немного более современным функциям активаций, например Mish, напомним как она выглядит:\n",
    "\n",
    "$$x * tanh(ln(1+e^x))$$\n",
    "\n",
    "(запрещено использование модулей torch.nn и его подмодулей)"
   ]
  },
  {
   "cell_type": "code",
   "execution_count": 12,
   "metadata": {
    "id": "QicsQ-XzDQq9"
   },
   "outputs": [],
   "source": [
    "def mish(x):\n",
    "    return x * torch.tanh(torch.log(1 + torch.exp(x)))"
   ]
  },
  {
   "cell_type": "code",
   "execution_count": 13,
   "metadata": {
    "id": "EssCQ72nDcis"
   },
   "outputs": [],
   "source": [
    "assert torch.allclose(\n",
    "    mish(torch.tensor([1, 1, 1], dtype=torch.float32)), \n",
    "    torch.tensor([0.8651, 0.8651, 0.8651]), \n",
    "    atol=1e-4\n",
    ")\n",
    "\n",
    "assert torch.allclose(\n",
    "    mish(torch.tensor([0.6376, 0.4021, 0.6656, 0.3726], dtype=torch.float64)), \n",
    "    torch.tensor([0.5014, 0.2908, 0.5280, 0.2663], dtype=torch.float64), \n",
    "    atol=1e-4\n",
    ")"
   ]
  },
  {
   "cell_type": "markdown",
   "metadata": {
    "id": "_Z_a6C8mEvz4"
   },
   "source": [
    "**Task**: Теперь реализуем swish, напомним как она выглядит:\n",
    "\n",
    "$$x * \\sigma(x)$$\n",
    "\n",
    "(запрещено использование модулей torch.nn и его подмодулей)"
   ]
  },
  {
   "cell_type": "code",
   "execution_count": 14,
   "metadata": {
    "id": "vJvcQFVEEqKN"
   },
   "outputs": [],
   "source": [
    "def swish(x):\n",
    "    return x * torch.sigmoid(x)"
   ]
  },
  {
   "cell_type": "code",
   "execution_count": 15,
   "metadata": {
    "id": "zeFkVt2zEz8F"
   },
   "outputs": [],
   "source": [
    "assert torch.allclose(\n",
    "    swish(torch.tensor([1, 1, 1], dtype=torch.float32)), \n",
    "    torch.tensor([0.7311, 0.7311, 0.7311]), \n",
    "    atol=1e-4\n",
    ")\n",
    "\n",
    "assert torch.allclose(\n",
    "    swish(torch.tensor([0.6376, 0.4021, 0.6656, 0.3726], dtype=torch.float64)), \n",
    "    torch.tensor([0.4171, 0.2409, 0.4396, 0.2206], dtype=torch.float64), \n",
    "    atol=1e-4\n",
    ")"
   ]
  },
  {
   "cell_type": "markdown",
   "metadata": {
    "id": "35yMkL4EE77L"
   },
   "source": [
    "### Пишем Adam и применяем его к линейной регрессии (4 балла)\n",
    "\n",
    "\n",
    "В данной секции вам нужно сделать две вещи: \n",
    "\n",
    "1. Написать свой собственный оптимизатор подобно тому, который мы писали на семинаре\n",
    "2. Обучить логистическую регрессию побатчево на картинках из датасета \n",
    "\n",
    "\n",
    "#### Adam\n",
    "\n",
    "\n",
    "$$\n",
    "\\begin{eqnarray}\n",
    "g &=& \\frac{1}{m}\\nabla_w \\sum_i L(f(x_{i};w), y_{i}) \\\\\n",
    "m &=& \\beta_1 m + (1 - \\beta_1) g \\\\\n",
    "v &=& \\beta_2 v + (1 - \\beta_2) diag(gg^{T}) \\\\\n",
    "\\hat{m} &=& \\frac{m}{1 - \\beta_1^{t}} \\\\\n",
    "\\hat{v} &=& \\frac{v}{1 - \\beta_2^{t}} \\\\\n",
    "w &=& w - \\frac{\\eta}{\\sqrt{\\hat{v} + \\epsilon}} \\odot \\hat{m}\n",
    "\\end{eqnarray}\n",
    "$$"
   ]
  },
  {
   "cell_type": "code",
   "execution_count": 16,
   "metadata": {
    "id": "TyLLB88kFCyM"
   },
   "outputs": [],
   "source": [
    "# абстрактный класс, не обращайте внимания\n",
    "from torch.optim import Optimizer\n",
    "\n",
    "\n",
    "class InClassOptimizer(Optimizer):\n",
    "    def step(self):\n",
    "        \"\"\"Perform single optimization step.\"\"\"\n",
    "        with torch.no_grad(): # выключим градиенты\n",
    "            for group in self.param_groups:\n",
    "                self._group_step(group)\n",
    "\n",
    "    def _group_step(self, group):\n",
    "        # group ~ dict[str, ...]\n",
    "        \"\"\"\n",
    "        Private helper function to perform\n",
    "        single optimization step on model parameters.\n",
    "        \"\"\"\n",
    "        raise NotImplementedError()"
   ]
  },
  {
   "cell_type": "markdown",
   "metadata": {
    "id": "cXfPH6v8GOiS"
   },
   "source": [
    "**Task**: Напишите свою реализацию Adam:"
   ]
  },
  {
   "cell_type": "code",
   "execution_count": 17,
   "metadata": {
    "id": "SZAbxco6GPRN"
   },
   "outputs": [],
   "source": [
    "class Adam(InClassOptimizer):\n",
    "    def __init__(self, params, lr=0.001, eps=1e-13, beta_1=0.9, beta_2=0.999):\n",
    "        defaults = dict(lr=lr, eps=eps, beta_1=beta_1, beta_2=beta_2)\n",
    "        super().__init__(params, defaults)\n",
    "        self.t = 0\n",
    "\n",
    "    def _group_step(self, group):\n",
    "        lr = group['lr']\n",
    "        eps = group['eps']\n",
    "        beta_1 = group['beta_1']\n",
    "        beta_2 = group['beta_2']\n",
    "        self.t += 1\n",
    "        for param in filter(lambda x: x.grad is not None, group['params']):\n",
    "            self._init_adam_buffer(param)\n",
    "            param_grad = param.grad\n",
    "            m_buffer, v_buffer = self._get_adam_buffer(param)\n",
    "            m_buffer.mul_(beta_1) \n",
    "            m_buffer.add_((1 - beta_1) * param_grad)\n",
    "            v_buffer.mul_(beta_2)\n",
    "            v_buffer.add_((1 - beta_2) * (param_grad ** 2))\n",
    "            m_lid = m_buffer / (1 - beta_1 ** self.t)\n",
    "            v_lid = v_buffer / (1 - beta_2 ** self.t)\n",
    "            w = m_lid / (torch.sqrt(v_lid) + eps)\n",
    "            param.add_(w, alpha=-lr)\n",
    "            \n",
    "\n",
    "    def _get_adam_buffer(self, param):\n",
    "        param_state = self.state[param]\n",
    "        return param_state['adam_m_buffer'], param_state['adam_v_buffer']\n",
    "\n",
    "    def _init_adam_buffer(self, param):\n",
    "        param_state = self.state[param]\n",
    "        if 'adam_m_buffer' not in param_state:\n",
    "            param_state['adam_m_buffer'] = torch.zeros_like(param)\n",
    "        if 'adam_v_buffer' not in param_state:\n",
    "            param_state['adam_v_buffer'] = torch.zeros_like(param)"
   ]
  },
  {
   "cell_type": "markdown",
   "metadata": {
    "id": "3sbolUcW2csR"
   },
   "source": [
    "**Task**: Создайте параметры для обучения линейной регрессии, сделаем Xavier ициализацию, которая выглядит следующим образом: \n",
    "\n",
    "$$w \\sim U\\left[-\\frac{\\sqrt{6}}{\\sqrt{n_{in} + n_{out}}}, \\frac{\\sqrt{6}}{\\sqrt{n_{in} + n_{out}}}\\right]$$\n",
    "\n",
    "где: \n",
    "\n",
    "* $n_{in}$ -- размер входа (в нейронах) \n",
    "* $n_{out}$ -- размер выхода (в нейронах)\n",
    "\n",
    "Подумайте над выбором $n_{in}$ и $n_{out}$ самостоятельно. "
   ]
  },
  {
   "cell_type": "markdown",
   "metadata": {
    "id": "pvqJ99RABAzU"
   },
   "source": [
    "Целью инициализации веса является предотвращение взрыва или исчезновения выходных сигналов активации слоя в ходе прямого прохода через глубокую нейронную сеть. Если это произойдет, градиенты потерь будут либо слишком большими, либо слишком маленькими для того, чтобы выгодно течь в обратном направлении, и сети потребуется больше времени для схождения, если она вообще сможет это сделать."
   ]
  },
  {
   "cell_type": "code",
   "execution_count": 18,
   "metadata": {
    "id": "zGOoy-Ci2q6z"
   },
   "outputs": [],
   "source": [
    "n_in, n_out = (28*28, 10) # на вход будем подавать размер картинки 28*28, а на выходе - кол-во классов - 10\n",
    "weights = torch.Tensor(n_in, n_out).uniform_(-1, 1)*math.sqrt(6./(n_in + n_out))\n",
    "intercept = torch.Tensor(1, n_out).uniform_(-1, 1)*math.sqrt(6./(n_in + n_out))\n",
    "intercept.requires_grad = True\n",
    "weights.requires_grad = True\n",
    "bias = intercept"
   ]
  },
  {
   "cell_type": "code",
   "execution_count": 19,
   "metadata": {
    "id": "sy51uJbb2rK7"
   },
   "outputs": [],
   "source": [
    "optimizer = Adam([weights, intercept])\n",
    "loss = nn.CrossEntropyLoss()"
   ]
  },
  {
   "cell_type": "markdown",
   "metadata": {
    "id": "047vRQ_0tQiH"
   },
   "source": [
    "Загрузим данные и создадим даталоадеры:"
   ]
  },
  {
   "cell_type": "code",
   "execution_count": 20,
   "metadata": {
    "colab": {
     "base_uri": "https://localhost:8080/",
     "height": 411,
     "referenced_widgets": [
      "c42b7a866ea24b7e962676ab6676784d",
      "7e9606879a394d7b8260f6c9c908288f",
      "6dd95312fdec403fa5b4e549da32f72c",
      "3a23b8b9f14b4bf48261fdc37e6e0f8b",
      "fc66544389d54888a17994837598d963",
      "d1d5c14acaa740189819cddaec63dabe",
      "9a3d0767b04c455899122273ea733931",
      "6f1e0d2e460047029840e3c0500e332b",
      "6578934186364c00b41681f4738aac4d",
      "6520d0e7d9b94edfac62e0b0c33a8e1a",
      "99cd31eae6224846b2b36b8c3ad823a5",
      "a18889ff8c24488cb1d4f2a0a95d21ab",
      "c088dfd7f69240db948fff810a92a1f6",
      "03bbe989d2b84d1686982ee5ac53e334",
      "83b6328cdd9f48a29e4ff909e7e66dac",
      "19823d3f13264b4aaac79de8542e352a",
      "bd5921efd5c04744a881f5526cdd5fb7",
      "24354157b00e44c8ab6553cc3ab7c932",
      "6091a2c183cb4f46b988333e22cbb664",
      "9a8985a4d0ae4c369198eec507833c8b",
      "b6278ba6fa714f28a86992f012bdfc02",
      "c9ca7e93daf94e8d9855ea820da96108",
      "346b8c40ff6d409e94f54bc75c71ee99",
      "1450281368d74514801ee499f837e3ef",
      "ebf11041d913489c843bbca57bce3b51",
      "f5ea894898c844e6a33cabbc7e1b7c6b",
      "e18980f0ada24b6a8de247023f2a10c7",
      "a47a131aa3744d768135ac199ea9a7ec",
      "ad7d37b8c6854678ad421d7adacc747c",
      "663726879b7b456ab85b0312f9637402",
      "391888a1a721468cb1ac5b3bd407948c",
      "82a4c99c92284114b6b9cd38ef3e2dcb"
     ]
    },
    "id": "yPgp3LT-2dzT",
    "outputId": "bb3bfe99-1ed0-4523-897c-d54e9c794f19"
   },
   "outputs": [
    {
     "name": "stdout",
     "output_type": "stream",
     "text": [
      "Downloading http://fashion-mnist.s3-website.eu-central-1.amazonaws.com/train-images-idx3-ubyte.gz to ./data/FashionMNIST/raw/train-images-idx3-ubyte.gz\n"
     ]
    },
    {
     "data": {
      "application/vnd.jupyter.widget-view+json": {
       "model_id": "c42b7a866ea24b7e962676ab6676784d",
       "version_major": 2,
       "version_minor": 0
      },
      "text/plain": [
       "HBox(children=(FloatProgress(value=1.0, bar_style='info', max=1.0), HTML(value='')))"
      ]
     },
     "metadata": {
      "tags": []
     },
     "output_type": "display_data"
    },
    {
     "name": "stdout",
     "output_type": "stream",
     "text": [
      "Extracting ./data/FashionMNIST/raw/train-images-idx3-ubyte.gz to ./data/FashionMNIST/raw\n",
      "Downloading http://fashion-mnist.s3-website.eu-central-1.amazonaws.com/train-labels-idx1-ubyte.gz to ./data/FashionMNIST/raw/train-labels-idx1-ubyte.gz\n"
     ]
    },
    {
     "data": {
      "application/vnd.jupyter.widget-view+json": {
       "model_id": "6578934186364c00b41681f4738aac4d",
       "version_major": 2,
       "version_minor": 0
      },
      "text/plain": [
       "HBox(children=(FloatProgress(value=1.0, bar_style='info', max=1.0), HTML(value='')))"
      ]
     },
     "metadata": {
      "tags": []
     },
     "output_type": "display_data"
    },
    {
     "name": "stdout",
     "output_type": "stream",
     "text": [
      "Extracting ./data/FashionMNIST/raw/train-labels-idx1-ubyte.gz to ./data/FashionMNIST/raw\n",
      "Downloading http://fashion-mnist.s3-website.eu-central-1.amazonaws.com/t10k-images-idx3-ubyte.gz to ./data/FashionMNIST/raw/t10k-images-idx3-ubyte.gz\n"
     ]
    },
    {
     "data": {
      "application/vnd.jupyter.widget-view+json": {
       "model_id": "bd5921efd5c04744a881f5526cdd5fb7",
       "version_major": 2,
       "version_minor": 0
      },
      "text/plain": [
       "HBox(children=(FloatProgress(value=1.0, bar_style='info', max=1.0), HTML(value='')))"
      ]
     },
     "metadata": {
      "tags": []
     },
     "output_type": "display_data"
    },
    {
     "name": "stdout",
     "output_type": "stream",
     "text": [
      "Extracting ./data/FashionMNIST/raw/t10k-images-idx3-ubyte.gz to ./data/FashionMNIST/raw\n",
      "Downloading http://fashion-mnist.s3-website.eu-central-1.amazonaws.com/t10k-labels-idx1-ubyte.gz to ./data/FashionMNIST/raw/t10k-labels-idx1-ubyte.gz\n",
      "\n",
      "\n"
     ]
    },
    {
     "data": {
      "application/vnd.jupyter.widget-view+json": {
       "model_id": "ebf11041d913489c843bbca57bce3b51",
       "version_major": 2,
       "version_minor": 0
      },
      "text/plain": [
       "HBox(children=(FloatProgress(value=1.0, bar_style='info', max=1.0), HTML(value='')))"
      ]
     },
     "metadata": {
      "tags": []
     },
     "output_type": "display_data"
    },
    {
     "name": "stdout",
     "output_type": "stream",
     "text": [
      "Extracting ./data/FashionMNIST/raw/t10k-labels-idx1-ubyte.gz to ./data/FashionMNIST/raw\n",
      "Processing...\n",
      "Done!\n"
     ]
    },
    {
     "name": "stderr",
     "output_type": "stream",
     "text": [
      "/usr/local/lib/python3.6/dist-packages/torchvision/datasets/mnist.py:480: UserWarning: The given NumPy array is not writeable, and PyTorch does not support non-writeable tensors. This means you can write to the underlying (supposedly non-writeable) NumPy array using the tensor. You may want to copy the array to protect its data or make it writeable before converting it to a tensor. This type of warning will be suppressed for the rest of this program. (Triggered internally at  /pytorch/torch/csrc/utils/tensor_numpy.cpp:141.)\n",
      "  return torch.from_numpy(parsed.astype(m[2], copy=False)).view(*s)\n"
     ]
    }
   ],
   "source": [
    "from torch.utils.data import DataLoader\n",
    "import torchvision\n",
    "import torchvision.transforms as transforms\n",
    "fashion_mnist_train = torchvision.datasets.FashionMNIST(\n",
    "    './data',\n",
    "    download=True,\n",
    "    transform=transforms.Compose([transforms.ToTensor()])\n",
    ")\n",
    "train_dataloader = DataLoader(fashion_mnist_train, batch_size=128, shuffle=True,\n",
    "                              num_workers=1)\n",
    "\n",
    "fashion_mnist_eval = torchvision.datasets.FashionMNIST(\n",
    "    './data',\n",
    "    train=False,\n",
    "    download=True,\n",
    "    transform=transforms.Compose([transforms.ToTensor()])\n",
    ")\n",
    "\n",
    "eval_dataloader = DataLoader(fashion_mnist_eval, batch_size=128, num_workers=1)"
   ]
  },
  {
   "cell_type": "markdown",
   "metadata": {
    "id": "X2c53PPatHIf"
   },
   "source": [
    "Напишите функцию для тренировки логистической регрессии, она должна: \n",
    "\n",
    "    * Делать предсказания \n",
    "    * Считать лосс \n",
    "    * Подсчитывать градиенты\n",
    "    * Делать шаг оптимизации\n",
    "    * Обнулять посчитанные градиенты\n",
    "    * Считать метрики \n",
    "    * Возвращать полученные метрики\n",
    "    \n",
    "После этого предусмотрите возможность визуализировать метрики, чтобы нарисовать картинки, а именно от вас требуется визуализировать: \n",
    "\n",
    "    * Зависимость лосса от количества итераций\n",
    "    * Зависимость доли правильных ответов от количества итераций"
   ]
  },
  {
   "cell_type": "code",
   "execution_count": 21,
   "metadata": {
    "id": "gNlEZDydAJ2A"
   },
   "outputs": [],
   "source": [
    "def train_logistic_regression(weights, bias, batch, loss, optimizer):\n",
    "    y_predict, x_predict = batch\n",
    "    outputs = torch.matmul(y_predict.view(-1, 1*28*28), weights) + bias\n",
    "\n",
    "    batch_loss = loss(outputs, x_predict)\n",
    "    batch_loss.backward()\n",
    "\n",
    "    optimizer.step()\n",
    "    optimizer.zero_grad()\n",
    "\n",
    "    _, predicted = torch.max(outputs, 1)\n",
    "    accuracy = (predicted == x_predict).sum().item() / len(x_predict)\n",
    "    return batch_loss, accuracy"
   ]
  },
  {
   "cell_type": "code",
   "execution_count": 22,
   "metadata": {
    "id": "IS0oudKJJpGu"
   },
   "outputs": [],
   "source": [
    "def test_logistic_regression(weights, bias, eval_dataloader, loss):\n",
    "    eval_loss = []\n",
    "    eval_accuracy = []\n",
    "    with torch.no_grad():\n",
    "      for batch in eval_dataloader:\n",
    "          outputs, labels = batch\n",
    "          outputs = torch.matmul(outputs.view(-1, 1*28*28), weights) + bias\n",
    "\n",
    "          batch_loss = loss(outputs, labels).detach().numpy()\n",
    "          _, predicted = torch.max(outputs, 1)\n",
    "          \n",
    "          accuracy = (predicted == labels).sum().item() / len(labels)\n",
    "          eval_loss.append(batch_loss)\n",
    "          eval_accuracy.append(accuracy)\n",
    "      return np.sum(eval_loss) / len(eval_dataloader), np.sum(eval_accuracy) / len(eval_dataloader)"
   ]
  },
  {
   "cell_type": "code",
   "execution_count": 23,
   "metadata": {
    "colab": {
     "base_uri": "https://localhost:8080/"
    },
    "id": "WHyx0bATOa5j",
    "outputId": "3c76145a-045c-4a8b-9602-76aa2c966e15"
   },
   "outputs": [
    {
     "name": "stdout",
     "output_type": "stream",
     "text": [
      "Epoch: 1 \n",
      " loss_train_mean = 0.7399, accuracy_train_mean = 0.7566 \n",
      " loss = 0.5717, accuracy = 0.8074\n",
      "Epoch: 2 \n",
      " loss_train_mean = 0.5146, accuracy_train_mean = 0.8290 \n",
      " loss = 0.5174, accuracy = 0.8249\n",
      "Epoch: 3 \n",
      " loss_train_mean = 0.4733, accuracy_train_mean = 0.8408 \n",
      " loss = 0.4879, accuracy = 0.8330\n",
      "Epoch: 4 \n",
      " loss_train_mean = 0.4519, accuracy_train_mean = 0.8477 \n",
      " loss = 0.4720, accuracy = 0.8369\n",
      "Epoch: 5 \n",
      " loss_train_mean = 0.4375, accuracy_train_mean = 0.8510 \n",
      " loss = 0.4651, accuracy = 0.8377\n",
      "Epoch: 6 \n",
      " loss_train_mean = 0.4279, accuracy_train_mean = 0.8543 \n",
      " loss = 0.4619, accuracy = 0.8414\n",
      "Epoch: 7 \n",
      " loss_train_mean = 0.4202, accuracy_train_mean = 0.8565 \n",
      " loss = 0.4658, accuracy = 0.8339\n",
      "Epoch: 8 \n",
      " loss_train_mean = 0.4145, accuracy_train_mean = 0.8582 \n",
      " loss = 0.4490, accuracy = 0.8443\n",
      "Epoch: 9 \n",
      " loss_train_mean = 0.4090, accuracy_train_mean = 0.8605 \n",
      " loss = 0.4491, accuracy = 0.8436\n",
      "Epoch: 10 \n",
      " loss_train_mean = 0.4054, accuracy_train_mean = 0.8607 \n",
      " loss = 0.4452, accuracy = 0.8441\n",
      "Epoch: 11 \n",
      " loss_train_mean = 0.4021, accuracy_train_mean = 0.8620 \n",
      " loss = 0.4523, accuracy = 0.8419\n",
      "Epoch: 12 \n",
      " loss_train_mean = 0.3987, accuracy_train_mean = 0.8633 \n",
      " loss = 0.4478, accuracy = 0.8443\n",
      "Epoch: 13 \n",
      " loss_train_mean = 0.3959, accuracy_train_mean = 0.8638 \n",
      " loss = 0.4429, accuracy = 0.8467\n",
      "Epoch: 14 \n",
      " loss_train_mean = 0.3931, accuracy_train_mean = 0.8651 \n",
      " loss = 0.4420, accuracy = 0.8449\n",
      "Epoch: 15 \n",
      " loss_train_mean = 0.3915, accuracy_train_mean = 0.8649 \n",
      " loss = 0.4407, accuracy = 0.8483\n",
      "Epoch: 16 \n",
      " loss_train_mean = 0.3889, accuracy_train_mean = 0.8650 \n",
      " loss = 0.4433, accuracy = 0.8441\n",
      "Epoch: 17 \n",
      " loss_train_mean = 0.3876, accuracy_train_mean = 0.8653 \n",
      " loss = 0.4439, accuracy = 0.8441\n",
      "Epoch: 18 \n",
      " loss_train_mean = 0.3866, accuracy_train_mean = 0.8659 \n",
      " loss = 0.4477, accuracy = 0.8440\n",
      "Epoch: 19 \n",
      " loss_train_mean = 0.3842, accuracy_train_mean = 0.8670 \n",
      " loss = 0.4384, accuracy = 0.8466\n",
      "Epoch: 20 \n",
      " loss_train_mean = 0.3834, accuracy_train_mean = 0.8685 \n",
      " loss = 0.4411, accuracy = 0.8463\n",
      "Epoch: 21 \n",
      " loss_train_mean = 0.3824, accuracy_train_mean = 0.8676 \n",
      " loss = 0.4379, accuracy = 0.8464\n",
      "Epoch: 22 \n",
      " loss_train_mean = 0.3811, accuracy_train_mean = 0.8670 \n",
      " loss = 0.4382, accuracy = 0.8468\n",
      "Epoch: 23 \n",
      " loss_train_mean = 0.3796, accuracy_train_mean = 0.8690 \n",
      " loss = 0.4413, accuracy = 0.8462\n",
      "Epoch: 24 \n",
      " loss_train_mean = 0.3779, accuracy_train_mean = 0.8683 \n",
      " loss = 0.4356, accuracy = 0.8473\n",
      "Epoch: 25 \n",
      " loss_train_mean = 0.3775, accuracy_train_mean = 0.8691 \n",
      " loss = 0.4351, accuracy = 0.8478\n",
      "Epoch: 26 \n",
      " loss_train_mean = 0.3770, accuracy_train_mean = 0.8687 \n",
      " loss = 0.4381, accuracy = 0.8468\n",
      "Epoch: 27 \n",
      " loss_train_mean = 0.3768, accuracy_train_mean = 0.8692 \n",
      " loss = 0.4433, accuracy = 0.8432\n",
      "Epoch: 28 \n",
      " loss_train_mean = 0.3747, accuracy_train_mean = 0.8692 \n",
      " loss = 0.4416, accuracy = 0.8457\n",
      "Epoch: 29 \n",
      " loss_train_mean = 0.3743, accuracy_train_mean = 0.8698 \n",
      " loss = 0.4344, accuracy = 0.8471\n",
      "Epoch: 30 \n",
      " loss_train_mean = 0.3734, accuracy_train_mean = 0.8697 \n",
      " loss = 0.4363, accuracy = 0.8472\n",
      "Epoch: 31 \n",
      " loss_train_mean = 0.3726, accuracy_train_mean = 0.8700 \n",
      " loss = 0.4356, accuracy = 0.8473\n",
      "Epoch: 32 \n",
      " loss_train_mean = 0.3717, accuracy_train_mean = 0.8701 \n",
      " loss = 0.4433, accuracy = 0.8460\n",
      "Epoch: 33 \n",
      " loss_train_mean = 0.3719, accuracy_train_mean = 0.8700 \n",
      " loss = 0.4381, accuracy = 0.8445\n",
      "Epoch: 34 \n",
      " loss_train_mean = 0.3705, accuracy_train_mean = 0.8709 \n",
      " loss = 0.4436, accuracy = 0.8431\n",
      "Epoch: 35 \n",
      " loss_train_mean = 0.3701, accuracy_train_mean = 0.8710 \n",
      " loss = 0.4389, accuracy = 0.8468\n",
      "Epoch: 36 \n",
      " loss_train_mean = 0.3694, accuracy_train_mean = 0.8707 \n",
      " loss = 0.4395, accuracy = 0.8445\n",
      "Epoch: 37 \n",
      " loss_train_mean = 0.3687, accuracy_train_mean = 0.8697 \n",
      " loss = 0.4356, accuracy = 0.8470\n",
      "Epoch: 38 \n",
      " loss_train_mean = 0.3679, accuracy_train_mean = 0.8707 \n",
      " loss = 0.4415, accuracy = 0.8450\n",
      "Epoch: 39 \n",
      " loss_train_mean = 0.3673, accuracy_train_mean = 0.8709 \n",
      " loss = 0.4348, accuracy = 0.8472\n",
      "Epoch: 40 \n",
      " loss_train_mean = 0.3666, accuracy_train_mean = 0.8712 \n",
      " loss = 0.4389, accuracy = 0.8469\n",
      "Epoch: 41 \n",
      " loss_train_mean = 0.3670, accuracy_train_mean = 0.8704 \n",
      " loss = 0.4378, accuracy = 0.8477\n",
      "Epoch: 42 \n",
      " loss_train_mean = 0.3655, accuracy_train_mean = 0.8729 \n",
      " loss = 0.4466, accuracy = 0.8438\n",
      "Epoch: 43 \n",
      " loss_train_mean = 0.3665, accuracy_train_mean = 0.8710 \n",
      " loss = 0.4373, accuracy = 0.8464\n",
      "Epoch: 44 \n",
      " loss_train_mean = 0.3662, accuracy_train_mean = 0.8713 \n",
      " loss = 0.4431, accuracy = 0.8425\n",
      "Epoch: 45 \n",
      " loss_train_mean = 0.3649, accuracy_train_mean = 0.8711 \n",
      " loss = 0.4451, accuracy = 0.8425\n",
      "Epoch: 46 \n",
      " loss_train_mean = 0.3646, accuracy_train_mean = 0.8725 \n",
      " loss = 0.4420, accuracy = 0.8439\n",
      "Epoch: 47 \n",
      " loss_train_mean = 0.3634, accuracy_train_mean = 0.8724 \n",
      " loss = 0.4376, accuracy = 0.8473\n",
      "Epoch: 48 \n",
      " loss_train_mean = 0.3636, accuracy_train_mean = 0.8728 \n",
      " loss = 0.4388, accuracy = 0.8458\n",
      "Epoch: 49 \n",
      " loss_train_mean = 0.3633, accuracy_train_mean = 0.8726 \n",
      " loss = 0.4413, accuracy = 0.8456\n",
      "Epoch: 50 \n",
      " loss_train_mean = 0.3624, accuracy_train_mean = 0.8727 \n",
      " loss = 0.4410, accuracy = 0.8454\n",
      "Epoch: 51 \n",
      " loss_train_mean = 0.3629, accuracy_train_mean = 0.8730 \n",
      " loss = 0.4449, accuracy = 0.8436\n",
      "Epoch: 52 \n",
      " loss_train_mean = 0.3635, accuracy_train_mean = 0.8721 \n",
      " loss = 0.4470, accuracy = 0.8426\n",
      "Epoch: 53 \n",
      " loss_train_mean = 0.3616, accuracy_train_mean = 0.8738 \n",
      " loss = 0.4425, accuracy = 0.8460\n",
      "Epoch: 54 \n",
      " loss_train_mean = 0.3616, accuracy_train_mean = 0.8733 \n",
      " loss = 0.4421, accuracy = 0.8448\n",
      "Epoch: 55 \n",
      " loss_train_mean = 0.3612, accuracy_train_mean = 0.8729 \n",
      " loss = 0.4386, accuracy = 0.8460\n",
      "Epoch: 56 \n",
      " loss_train_mean = 0.3604, accuracy_train_mean = 0.8731 \n",
      " loss = 0.4371, accuracy = 0.8478\n",
      "Epoch: 57 \n",
      " loss_train_mean = 0.3598, accuracy_train_mean = 0.8731 \n",
      " loss = 0.4411, accuracy = 0.8462\n",
      "Epoch: 58 \n",
      " loss_train_mean = 0.3601, accuracy_train_mean = 0.8730 \n",
      " loss = 0.4492, accuracy = 0.8435\n",
      "Epoch: 59 \n",
      " loss_train_mean = 0.3597, accuracy_train_mean = 0.8735 \n",
      " loss = 0.4403, accuracy = 0.8434\n",
      "Epoch: 60 \n",
      " loss_train_mean = 0.3600, accuracy_train_mean = 0.8735 \n",
      " loss = 0.4475, accuracy = 0.8412\n",
      "Epoch: 61 \n",
      " loss_train_mean = 0.3585, accuracy_train_mean = 0.8733 \n",
      " loss = 0.4419, accuracy = 0.8461\n",
      "Epoch: 62 \n",
      " loss_train_mean = 0.3586, accuracy_train_mean = 0.8738 \n",
      " loss = 0.4431, accuracy = 0.8457\n",
      "Epoch: 63 \n",
      " loss_train_mean = 0.3584, accuracy_train_mean = 0.8737 \n",
      " loss = 0.4461, accuracy = 0.8442\n",
      "Epoch: 64 \n",
      " loss_train_mean = 0.3594, accuracy_train_mean = 0.8742 \n",
      " loss = 0.4448, accuracy = 0.8441\n",
      "Epoch: 65 \n",
      " loss_train_mean = 0.3579, accuracy_train_mean = 0.8737 \n",
      " loss = 0.4474, accuracy = 0.8441\n",
      "Epoch: 66 \n",
      " loss_train_mean = 0.3582, accuracy_train_mean = 0.8743 \n",
      " loss = 0.4401, accuracy = 0.8470\n",
      "Epoch: 67 \n",
      " loss_train_mean = 0.3572, accuracy_train_mean = 0.8755 \n",
      " loss = 0.4411, accuracy = 0.8446\n",
      "Epoch: 68 \n",
      " loss_train_mean = 0.3578, accuracy_train_mean = 0.8743 \n",
      " loss = 0.4393, accuracy = 0.8461\n",
      "Epoch: 69 \n",
      " loss_train_mean = 0.3557, accuracy_train_mean = 0.8757 \n",
      " loss = 0.4396, accuracy = 0.8470\n",
      "Epoch: 70 \n",
      " loss_train_mean = 0.3568, accuracy_train_mean = 0.8743 \n",
      " loss = 0.4473, accuracy = 0.8420\n",
      "Epoch: 71 \n",
      " loss_train_mean = 0.3564, accuracy_train_mean = 0.8743 \n",
      " loss = 0.4416, accuracy = 0.8465\n",
      "Epoch: 72 \n",
      " loss_train_mean = 0.3566, accuracy_train_mean = 0.8754 \n",
      " loss = 0.4449, accuracy = 0.8436\n",
      "Epoch: 73 \n",
      " loss_train_mean = 0.3560, accuracy_train_mean = 0.8749 \n",
      " loss = 0.4404, accuracy = 0.8462\n",
      "Epoch: 74 \n",
      " loss_train_mean = 0.3557, accuracy_train_mean = 0.8746 \n",
      " loss = 0.4487, accuracy = 0.8443\n",
      "Epoch: 75 \n",
      " loss_train_mean = 0.3557, accuracy_train_mean = 0.8741 \n",
      " loss = 0.4492, accuracy = 0.8449\n",
      "Epoch: 76 \n",
      " loss_train_mean = 0.3554, accuracy_train_mean = 0.8746 \n",
      " loss = 0.4452, accuracy = 0.8445\n",
      "Epoch: 77 \n",
      " loss_train_mean = 0.3548, accuracy_train_mean = 0.8756 \n",
      " loss = 0.4463, accuracy = 0.8452\n",
      "Epoch: 78 \n",
      " loss_train_mean = 0.3541, accuracy_train_mean = 0.8748 \n",
      " loss = 0.4453, accuracy = 0.8432\n",
      "Epoch: 79 \n",
      " loss_train_mean = 0.3543, accuracy_train_mean = 0.8751 \n",
      " loss = 0.4455, accuracy = 0.8452\n",
      "Epoch: 80 \n",
      " loss_train_mean = 0.3542, accuracy_train_mean = 0.8756 \n",
      " loss = 0.4465, accuracy = 0.8438\n",
      "Epoch: 81 \n",
      " loss_train_mean = 0.3537, accuracy_train_mean = 0.8756 \n",
      " loss = 0.4449, accuracy = 0.8453\n",
      "Epoch: 82 \n",
      " loss_train_mean = 0.3544, accuracy_train_mean = 0.8748 \n",
      " loss = 0.4477, accuracy = 0.8420\n",
      "Epoch: 83 \n",
      " loss_train_mean = 0.3542, accuracy_train_mean = 0.8756 \n",
      " loss = 0.4470, accuracy = 0.8439\n",
      "Epoch: 84 \n",
      " loss_train_mean = 0.3530, accuracy_train_mean = 0.8755 \n",
      " loss = 0.4552, accuracy = 0.8390\n",
      "Epoch: 85 \n",
      " loss_train_mean = 0.3544, accuracy_train_mean = 0.8754 \n",
      " loss = 0.4465, accuracy = 0.8428\n",
      "Epoch: 86 \n",
      " loss_train_mean = 0.3529, accuracy_train_mean = 0.8757 \n",
      " loss = 0.4489, accuracy = 0.8430\n",
      "Epoch: 87 \n",
      " loss_train_mean = 0.3535, accuracy_train_mean = 0.8756 \n",
      " loss = 0.4463, accuracy = 0.8448\n",
      "Epoch: 88 \n",
      " loss_train_mean = 0.3532, accuracy_train_mean = 0.8749 \n",
      " loss = 0.4497, accuracy = 0.8429\n",
      "Epoch: 89 \n",
      " loss_train_mean = 0.3523, accuracy_train_mean = 0.8758 \n",
      " loss = 0.4469, accuracy = 0.8449\n",
      "Epoch: 90 \n",
      " loss_train_mean = 0.3527, accuracy_train_mean = 0.8756 \n",
      " loss = 0.4429, accuracy = 0.8467\n",
      "Epoch: 91 \n",
      " loss_train_mean = 0.3524, accuracy_train_mean = 0.8764 \n",
      " loss = 0.4472, accuracy = 0.8435\n",
      "Epoch: 92 \n",
      " loss_train_mean = 0.3513, accuracy_train_mean = 0.8758 \n",
      " loss = 0.4457, accuracy = 0.8452\n",
      "Epoch: 93 \n",
      " loss_train_mean = 0.3522, accuracy_train_mean = 0.8763 \n",
      " loss = 0.4481, accuracy = 0.8447\n",
      "Epoch: 94 \n",
      " loss_train_mean = 0.3520, accuracy_train_mean = 0.8763 \n",
      " loss = 0.4482, accuracy = 0.8433\n",
      "Epoch: 95 \n",
      " loss_train_mean = 0.3510, accuracy_train_mean = 0.8765 \n",
      " loss = 0.4465, accuracy = 0.8453\n",
      "Epoch: 96 \n",
      " loss_train_mean = 0.3523, accuracy_train_mean = 0.8765 \n",
      " loss = 0.4495, accuracy = 0.8439\n",
      "Epoch: 97 \n",
      " loss_train_mean = 0.3512, accuracy_train_mean = 0.8765 \n",
      " loss = 0.4493, accuracy = 0.8436\n",
      "Epoch: 98 \n",
      " loss_train_mean = 0.3513, accuracy_train_mean = 0.8762 \n",
      " loss = 0.4498, accuracy = 0.8415\n",
      "Epoch: 99 \n",
      " loss_train_mean = 0.3503, accuracy_train_mean = 0.8766 \n",
      " loss = 0.4522, accuracy = 0.8430\n"
     ]
    }
   ],
   "source": [
    "train_scores = {'loss': [],\n",
    "                 'accuracy': [], \n",
    "                 'epoch_num': [], \n",
    "                 'accuracy_train_mean_epoch': [],\n",
    "                 'loss_train_mean_epoch': [],\n",
    "                 'accuracy_validation_mean_epoch': [], \n",
    "                 'loss_validation_mean_epoch': []}\n",
    "\n",
    "for epoch in range(1, 100):\n",
    "    for batch in train_dataloader:\n",
    "        metrics = train_logistic_regression(weights, bias, batch, loss, optimizer)\n",
    "\n",
    "        train_scores['loss'].append(metrics[0].detach().numpy())\n",
    "        train_scores['accuracy'].append(metrics[1])\n",
    "        train_scores['epoch_num'].append(epoch)\n",
    "\n",
    "    losses = np.array(train_scores['loss'])\n",
    "    accuracy = np.array(train_scores['accuracy'])\n",
    "    epoch_nums = np.array(train_scores['epoch_num'])\n",
    "\n",
    "    avg_accuracy_epoch = np.sum(accuracy[epoch_nums == epoch]) / len(train_dataloader)\n",
    "    avg_loss_epoch = np.sum(losses[epoch_nums == epoch]) / len(train_dataloader)\n",
    "    test_loss, test_accuracy = test_logistic_regression(weights, bias, eval_dataloader, loss)\n",
    "\n",
    "    train_scores['accuracy_validation_mean_epoch'].extend([test_accuracy] * len(train_dataloader))\n",
    "    train_scores['loss_validation_mean_epoch'].extend([test_loss] * len(train_dataloader))\n",
    "    train_scores['accuracy_train_mean_epoch'].extend([avg_accuracy_epoch] * len(train_dataloader))\n",
    "    train_scores['loss_train_mean_epoch'].extend([avg_loss_epoch] * len(train_dataloader))\n",
    "\n",
    "    print('Epoch: {0} \\n loss_train_mean = {1:.4f}, accuracy_train_mean = {2:.4f} \\n loss = {3:.4f}, accuracy = {4:.4f}'\n",
    "    .format(epoch, avg_loss_epoch, avg_accuracy_epoch, test_loss, test_accuracy))"
   ]
  },
  {
   "cell_type": "code",
   "execution_count": 24,
   "metadata": {
    "colab": {
     "base_uri": "https://localhost:8080/",
     "height": 295
    },
    "id": "jGKKid5k4gmv",
    "outputId": "5a612406-85ee-453e-80ed-a0267c29ba5b"
   },
   "outputs": [
    {
     "data": {
      "image/png": "[encoded data removed]",
      "text/plain": [
       "<Figure size 432x288 with 1 Axes>"
      ]
     },
     "metadata": {
      "needs_background": "light",
      "tags": []
     },
     "output_type": "display_data"
    }
   ],
   "source": [
    "X = np.arange(len(train_scores['loss']))\n",
    "plt.plot(X, train_scores['loss'], X, train_scores['loss_train_mean_epoch'], X, train_scores['loss_validation_mean_epoch'])\n",
    "plt.title('Зависимость ошибки от кол-ва итераций')\n",
    "plt.xlabel('Количество итераций')\n",
    "plt.ylabel('Ошибка')\n",
    "\n",
    "plt.legend(['Loss_batch', 'Average_loss_epoch', 'Evaluation_loss_epoch'])\n",
    "\n",
    "plt.show()"
   ]
  },
  {
   "cell_type": "code",
   "execution_count": 25,
   "metadata": {
    "colab": {
     "base_uri": "https://localhost:8080/",
     "height": 295
    },
    "id": "E9EQfctD4qo0",
    "outputId": "4d8a183a-018d-4f4c-a50d-fd74860d24c4"
   },
   "outputs": [
    {
     "data": {
      "image/png": "[encoded data removed]",
      "text/plain": [
       "<Figure size 432x288 with 1 Axes>"
      ]
     },
     "metadata": {
      "needs_background": "light",
      "tags": []
     },
     "output_type": "display_data"
    }
   ],
   "source": [
    "plt.plot(X, train_scores['accuracy'], X, train_scores['accuracy_train_mean_epoch'], X, train_scores['accuracy_validation_mean_epoch'])\n",
    "plt.title('Зависимость точности предсказания от кол-ва итераций')\n",
    "plt.xlabel('Количество итераций')\n",
    "plt.ylabel('Доля правильных предсказаний')\n",
    "\n",
    "plt.legend(['Accuracy_batch', 'Average_accuracy_epoch', 'Evaluation_accuracy_epoch'])\n",
    "\n",
    "plt.show()"
   ]
  },
  {
   "cell_type": "markdown",
   "metadata": {
    "id": "6KRMcNM0tgfs"
   },
   "source": [
    "#### Вопросы к секции: \n",
    "\n",
    "* Своими словами и без математики объясните благодаря чему Adam дает несмещенную оценку на квадрат градиента\n",
    "* Когда модель начала переобучаться? Как вы это поняли? Сделайте визуализацию и докажите свою точку зрения."
   ]
  },
  {
   "cell_type": "markdown",
   "metadata": {
    "id": "3pnpi7_qtgmN"
   },
   "source": [
    "#### Ответы к секции: \n",
    "\n",
    "* Это происходит, потому что при помощи коррекции смещения и экспоненциального сглаживания,усредняется значение квадрата градиента, что позволяет лучше сходится в необходимом направлении.\n",
    "* Данная модель не переобучилась, ошибка на валидационной выборке почти не меняется, хотя и составляет немного больше, чем на тестовой. После нескольких эпох, accuracy и ошибка на train стабилизировались и почти не изменялись, а ошибка на валидационной выборке росла."
   ]
  },
  {
   "cell_type": "markdown",
   "metadata": {
    "id": "ltV7ghuHt12B"
   },
   "source": [
    "### Моя первая нейросеть (4 балла)"
   ]
  },
  {
   "cell_type": "markdown",
   "metadata": {
    "id": "dRG7PYYrtzNS"
   },
   "source": [
    "В данной секции вам нужно сделать следующие вещи: \n",
    "\n",
    "* Реализовать три разных архитектуры нейросетей. Эти архитектуры должны принципиально отличаться друг от друга. Разрешается одной из архитекур брать полностью полносвязную модель. Остальные две должны быть сверточными и сильно отличаться друг от друга. К примеру, одна из таких архитектур может быть VGG подобная сеть, а другая ResNet подобная архитектура. \n",
    "\n",
    "* Написать цикл для обучения которым можно обучать все три модели без изменений кода\n",
    "\n",
    "* Попробовать каждую модель с двумя оптимизаторами: RMSprop и SGD with momentum\n",
    "\n",
    "* Визуализировать результаты перфоманса каждой модели (две метрики минимум для каждого сетапа, например, лосс и долю правильных ответов). В данном пункте мы ждем от вас визуализацию зависимости метрики от номера итерации обучения.\n",
    "\n",
    "* Сделать выводы какие были модели были лучше и как вы думаете почему?"
   ]
  },
  {
   "cell_type": "markdown",
   "metadata": {
    "id": "9_SpgQJbjj-f"
   },
   "source": [
    "Будем обучать модели по нарастающей(от самой простой до самой сложной) (от LeNet(1998) до ResNet)"
   ]
  },
  {
   "cell_type": "code",
   "execution_count": 26,
   "metadata": {
    "id": "TS5fzTow7mEA"
   },
   "outputs": [],
   "source": [
    "# Функция для получения метрик на валидации\n",
    "def eval_func(model, eval_dataloader, loss):\n",
    "    eval_loss = []\n",
    "    eval_acc = []\n",
    "    model.eval()\n",
    "    with torch.no_grad():\n",
    "      for batch in eval_dataloader:\n",
    "          inputs, labels = batch\n",
    "          inputs, labels = inputs.to(device), labels.to(device) \n",
    "          outputs = model(inputs)\n",
    "          batch_loss = loss(outputs, labels).detach().to('cpu').numpy()\n",
    "          _, predicted = torch.max(outputs, 1)\n",
    "          accuracy = (predicted == labels).sum().item() / len(labels)\n",
    "          eval_loss.append(batch_loss)\n",
    "          eval_acc.append(accuracy)\n",
    "      return np.sum(eval_loss) / len(eval_dataloader), np.sum(eval_acc) / len(eval_dataloader)"
   ]
  },
  {
   "cell_type": "code",
   "execution_count": 27,
   "metadata": {
    "id": "UTbFEObxvEfL"
   },
   "outputs": [],
   "source": [
    "def train_model(model, train_dataloader ,optimizer, epochs):\n",
    "    # Loss\n",
    "    loss_function = nn.CrossEntropyLoss()\n",
    "\n",
    "    # Optimizer\n",
    "    if optimizer == 'Adam':\n",
    "      optimizer = torch.optim.Adam(model.parameters())\n",
    "    elif optimizer == 'RMSprop':\n",
    "      optimizer = torch.optim.RMSprop(model.parameters(), lr=0.0001)\n",
    "    elif optimizer == 'SGD':\n",
    "      optimizer = torch.optim.SGD(model.parameters(), lr=0.01, momentum=0.9)\n",
    "    else:\n",
    "      raise NotImplementedError()\n",
    "    \n",
    "    # Training\n",
    "    loss_history = {'loss': [], # значение ошибки на каждом тренировочном батче\n",
    "                    'accuracy': [], # точность предсказания на тренировочном батче\n",
    "                    'epoch_num': [], # номер эпохи\n",
    "                    'accuracy_train_mean_epoch': [], # среднее accuracy_train для эпохи\n",
    "                    'loss_train_mean_epoch': [], # среднее loss_train для эпохи\n",
    "                    'accuracy_validation_mean_epoch': [], # среднее accuracy_validation эпохи\n",
    "                    'loss_validation_mean_epoch': []} # среднее loss_validation для эпохи\n",
    "\n",
    "    len_dataloader = len(train_dataloader)\n",
    "    for epoch in range(epochs):\n",
    "\n",
    "        total_loss = 0.0\n",
    "        progress = tqdm(enumerate(train_dataloader), desc='Loss: ', total=len_dataloader)\n",
    "        model.train()\n",
    "\n",
    "        for i, batch in progress:\n",
    "            inputs, labels = batch\n",
    "            inputs, labels = inputs.to(device), labels.to(device) \n",
    "            optimizer.zero_grad()\n",
    "            outputs = model(inputs) \n",
    "            loss = loss_function(outputs, labels) \n",
    "            loss.backward() \n",
    "            optimizer.step() \n",
    "\n",
    "\n",
    "            current_loss = loss.item()\n",
    "            total_loss += current_loss\n",
    "\n",
    "            # Сохраним данные за батч\n",
    "            with torch.no_grad():\n",
    "              # Loss\n",
    "              loss_history['loss'].append(current_loss)\n",
    "              _, predicted = torch.max(outputs, 1)\n",
    "              accuracy = (predicted == labels).sum().item() / len(labels)\n",
    "              # Accuracy\n",
    "              loss_history['accuracy'].append(accuracy)\n",
    "              # Epoch_num\n",
    "              loss_history['epoch_num'].append(epoch)\n",
    "            \n",
    "            # Прогресс обучения\n",
    "            if (i % 100) == 99:\n",
    "              progress.set_description(\"Loss: {:.4f}\".format(total_loss / 100))\n",
    "              total_loss = 0.0\n",
    "           \n",
    "\n",
    "        torch.cuda.empty_cache()\n",
    "        \n",
    "        # Сохраним данные за эпоху\n",
    "        losses = np.array(loss_history['loss'], dtype='float16')\n",
    "        accuracy = np.array(loss_history['accuracy'], dtype='float16')\n",
    "        epoch_nums = np.array(loss_history['epoch_num'], dtype='float16')\n",
    "\n",
    "        avg_accuracy_epoch = np.sum(accuracy[epoch_nums == epoch]) / len_dataloader\n",
    "        avg_loss_epoch = np.sum(losses[epoch_nums == epoch]) / len_dataloader\n",
    "        eval_loss, eval_accuracy = eval_func(model, eval_dataloader, loss_function)\n",
    "\n",
    "        loss_history['accuracy_validation_mean_epoch'].extend([eval_accuracy] * len_dataloader)\n",
    "        loss_history['loss_validation_mean_epoch'].extend([eval_loss] * len_dataloader)\n",
    "        loss_history['accuracy_train_mean_epoch'].extend([avg_accuracy_epoch] * len_dataloader)\n",
    "        loss_history['loss_train_mean_epoch'].extend([avg_loss_epoch] * len_dataloader)\n",
    "\n",
    "        print('Epoch: {}, Accuracy_train: {:.4f}, Loss_train: {:.4f}, Accuracy_val: {:.4f}, Loss_val: {:.4f}'. format(epoch, avg_accuracy_epoch, avg_loss_epoch, eval_accuracy, eval_loss))\n",
    "    if (epoch + 1) == epochs:\n",
    "        clear_output()\n",
    "        print('Обучение завершено!!!\\nAccuracy_train: {:.4f}, Loss_train: {:.4f}, Accuracy_val: {:.4f}, Loss_val: {:.4f}'. format(avg_accuracy_epoch, avg_loss_epoch, eval_accuracy, eval_loss))\n",
    "\n",
    "    return loss_history"
   ]
  },
  {
   "cell_type": "code",
   "execution_count": 28,
   "metadata": {
    "id": "DvAA7Nc0eHE2"
   },
   "outputs": [],
   "source": [
    "# Полносвязная модель\n",
    "first_model = torch.nn.ModuleDict({\n",
    "    # your code here\n",
    "    'flt': nn.Flatten(),\n",
    "    'fc1': nn.Linear(1*28*28, 100),\n",
    "    'rl1': nn.ELU(), \n",
    "    'fc5': nn.Linear(100, 10),\n",
    "})\n",
    "\n",
    "class FirstModel(nn.Module):\n",
    "    def __init__(self):\n",
    "        super(FirstModel, self).__init__()\n",
    "        self.model = first_model\n",
    "\n",
    "    def forward(self, x):\n",
    "        x = self.model['flt'](x)\n",
    "        x = self.model['fc1'](x)\n",
    "        x = self.model['rl1'](x)\n",
    "        x = self.model['fc5'](x)\n",
    "        return x"
   ]
  },
  {
   "cell_type": "code",
   "execution_count": 29,
   "metadata": {
    "colab": {
     "base_uri": "https://localhost:8080/"
    },
    "id": "do5WOXoEQtH4",
    "outputId": "59241d3d-77b7-4c02-e48b-43fba7fd3835"
   },
   "outputs": [
    {
     "name": "stdout",
     "output_type": "stream",
     "text": [
      "Обучение завершено!!!\n",
      "Accuracy_train: 0.8902, Loss_train: 0.3076, Accuracy_val: 0.8722, Loss_val: 0.3686\n"
     ]
    }
   ],
   "source": [
    "# Полносвязнная модель\n",
    "\n",
    "mnist_net = FirstModel()\n",
    "mnist_net.to(device)\n",
    "\n",
    "mnist_history_RMSprop = train_model(mnist_net, train_dataloader, optimizer='RMSprop', epochs=50)"
   ]
  },
  {
   "cell_type": "code",
   "execution_count": 30,
   "metadata": {
    "colab": {
     "base_uri": "https://localhost:8080/"
    },
    "id": "hX5YSDJWQ3Qe",
    "outputId": "3eec2e7c-cec4-4ac0-d37e-8016f31461c9"
   },
   "outputs": [
    {
     "name": "stdout",
     "output_type": "stream",
     "text": [
      "Обучение завершено!!!\n",
      "Accuracy_train: 0.9254, Loss_train: 0.2070, Accuracy_val: 0.8861, Loss_val: 0.3336\n"
     ]
    }
   ],
   "source": [
    "# Полносвязнная модель\n",
    "\n",
    "mnist_net = FirstModel()\n",
    "mnist_net.to(device)\n",
    "\n",
    "mnist_history_SGD = train_model(mnist_net, train_dataloader, optimizer='SGD', epochs=50)"
   ]
  },
  {
   "cell_type": "markdown",
   "metadata": {
    "id": "a187b_vVoixU"
   },
   "source": [
    "### Вторая модель будет Lenet\n"
   ]
  },
  {
   "cell_type": "markdown",
   "metadata": {
    "id": "N_-9xyyEbu95"
   },
   "source": [
    "Рассмотрим Lenet в двух версиях, первая - оригинальная, вторая - немного модифицированная, и заодно посмотрим, какая лучше работает."
   ]
  },
  {
   "cell_type": "code",
   "execution_count": 31,
   "metadata": {
    "id": "tYjmrz--TTFD"
   },
   "outputs": [],
   "source": [
    "lenet_model_old = torch.nn.ModuleDict({\n",
    "    'conv1': torch.nn.Conv2d(in_channels=1, out_channels=6, kernel_size=5, padding=2),\n",
    "    'act1': torch.nn.Tanh(),\n",
    "    'pool1': torch.nn.AvgPool2d(kernel_size=2, stride=2),\n",
    "\n",
    "    'conv2': torch.nn.Conv2d(in_channels=6, out_channels=16, kernel_size=5, padding=0),\n",
    "    'act2': torch.nn.Tanh(),\n",
    "    'pool2': torch.nn.AvgPool2d(kernel_size=2, stride=2 ),\n",
    "\n",
    "    'fc1': torch.nn.Linear(5 * 5 * 16, 120),\n",
    "    'act3': torch.nn.Tanh(),\n",
    "\n",
    "    'fc2': torch.nn.Linear(120, 84),\n",
    "    'act4': torch.nn.Tanh(),\n",
    "\n",
    "    'fc3': torch.nn.Linear(84, 10)\n",
    "})"
   ]
  },
  {
   "cell_type": "code",
   "execution_count": 32,
   "metadata": {
    "id": "YKASKTzDTTB-"
   },
   "outputs": [],
   "source": [
    "class SecondModel(torch.nn.Module):\n",
    "  def __init__(self):\n",
    "    super(SecondModel, self).__init__()\n",
    "    self.model = lenet_model_old\n",
    "\n",
    "  def forward (self, x):\n",
    "    x = self.model['conv1'](x)\n",
    "    x = self.model['act1'](x)\n",
    "    x = self.model['pool1'](x)\n",
    "\n",
    "    x = self.model['conv2'](x)\n",
    "    x = self.model['act2'](x)\n",
    "    x = self.model['pool2'](x)\n",
    "\n",
    "    x = x.view(x.size(0), x.size(1) * x.size(2) * x.size(3))\n",
    "\n",
    "    x = self.model['fc1'](x)\n",
    "    x = self.model['act3'](x)\n",
    "\n",
    "    x = self.model['fc2'](x)\n",
    "    x = self.model['act4'](x)\n",
    "\n",
    "    x = self.model['fc3'](x)\n",
    "    return x\n",
    "\n"
   ]
  },
  {
   "cell_type": "code",
   "execution_count": 33,
   "metadata": {
    "colab": {
     "base_uri": "https://localhost:8080/"
    },
    "id": "9s1-kkVOTZPP",
    "outputId": "74f4cd57-717b-40c2-9b46-7e6cfab43eee"
   },
   "outputs": [
    {
     "name": "stdout",
     "output_type": "stream",
     "text": [
      "Обучение завершено!!!\n",
      "Accuracy_train: 0.9200, Loss_train: 0.2172, Accuracy_val: 0.8972, Loss_val: 0.2882\n"
     ]
    }
   ],
   "source": [
    "# LeNet_old + RMSprop\n",
    "\n",
    "lenet_net_old = SecondModel()\n",
    "lenet_net_old.to(device)\n",
    "\n",
    "lenet_old_history_RMSprop = train_model(lenet_net_old, train_dataloader, optimizer='RMSprop', epochs=100)"
   ]
  },
  {
   "cell_type": "code",
   "execution_count": 34,
   "metadata": {
    "colab": {
     "base_uri": "https://localhost:8080/"
    },
    "id": "kmFWUyFKTZZh",
    "outputId": "c8c5d0ff-cce8-4bb9-f182-42bb60eba363"
   },
   "outputs": [
    {
     "name": "stdout",
     "output_type": "stream",
     "text": [
      "Обучение завершено!!!\n",
      "Accuracy_train: 0.9920, Loss_train: 0.0265, Accuracy_val: 0.8961, Loss_val: 0.5272\n"
     ]
    }
   ],
   "source": [
    "# LeNet_old + SGD\n",
    "\n",
    "lenet_net_old = SecondModel()\n",
    "lenet_net_old.to(device)\n",
    "\n",
    "lenet_old_history_SGD = train_model(lenet_net_old, train_dataloader, optimizer='SGD', epochs=100)"
   ]
  },
  {
   "cell_type": "code",
   "execution_count": 35,
   "metadata": {
    "id": "bM37E6TVzVeB"
   },
   "outputs": [],
   "source": [
    "lenet_model_modern = torch.nn.ModuleDict({\n",
    "    'conv1_1': torch.nn.Conv2d(in_channels=1, out_channels=6, kernel_size=3, padding=1),\n",
    "    'conv1_2': torch.nn.Conv2d(in_channels=6, out_channels=6, kernel_size=3, padding=1),\n",
    "    'act1': torch.nn.ReLU(),\n",
    "    'bn1': torch.nn.BatchNorm2d(num_features=6),\n",
    "    'pool1': torch.nn.MaxPool2d(kernel_size=2, stride=2),\n",
    "\n",
    "    'conv2_1': torch.nn.Conv2d(in_channels=6, out_channels=16, kernel_size=3, padding=0),\n",
    "    'conv2_2': torch.nn.Conv2d(in_channels=16, out_channels=16, kernel_size=3, padding=0),\n",
    "    'act2': torch.nn.ReLU(),\n",
    "    'bn2': torch.nn.BatchNorm2d(num_features=16),\n",
    "    'pool2': torch.nn.MaxPool2d(kernel_size=2, stride=2 ),\n",
    "\n",
    "    'fc1': torch.nn.Linear(5 * 5 * 16, 120),\n",
    "    'act3': torch.nn.ReLU(),\n",
    "\n",
    "    'fc2': torch.nn.Linear(120, 84),\n",
    "    'act4': torch.nn.ReLU(),\n",
    "\n",
    "    'fc3': torch.nn.Linear(84, 10)\n",
    "})"
   ]
  },
  {
   "cell_type": "code",
   "execution_count": 36,
   "metadata": {
    "id": "FQpeW7to2yJI"
   },
   "outputs": [],
   "source": [
    "class SecondModel_new(torch.nn.Module):\n",
    "  def __init__(self):\n",
    "    super(SecondModel_new, self).__init__()\n",
    "    self.model = lenet_model_modern\n",
    "\n",
    "  def forward (self, x):\n",
    "    x = self.model['conv1_1'](x)\n",
    "    x = self.model['conv1_2'](x)\n",
    "    x = self.model['act1'](x)\n",
    "    x = self.model['bn1'](x)\n",
    "    x = self.model['pool1'](x)\n",
    "\n",
    "    x = self.model['conv2_1'](x)\n",
    "    x = self.model['conv2_2'](x)\n",
    "    x = self.model['act2'](x)\n",
    "    x = self.model['bn2'](x)\n",
    "    x = self.model['pool2'](x)\n",
    "\n",
    "    x = x.view(x.size(0), x.size(1) * x.size(2) * x.size(3))\n",
    "\n",
    "    x = self.model['fc1'](x)\n",
    "    x = self.model['act3'](x)\n",
    "\n",
    "    x = self.model['fc2'](x)\n",
    "    x = self.model['act4'](x)\n",
    "\n",
    "    x = self.model['fc3'](x)\n",
    "    return x\n",
    "\n"
   ]
  },
  {
   "cell_type": "code",
   "execution_count": 37,
   "metadata": {
    "colab": {
     "base_uri": "https://localhost:8080/"
    },
    "id": "LFb1m1FBUTH9",
    "outputId": "24afd90b-7f13-4c14-9370-1b11921f0dbc"
   },
   "outputs": [
    {
     "name": "stdout",
     "output_type": "stream",
     "text": [
      "Обучение завершено!!!\n",
      "Accuracy_train: 0.9638, Loss_train: 0.1078, Accuracy_val: 0.8958, Loss_val: 0.3318\n"
     ]
    }
   ],
   "source": [
    "# LeNet_new + RMSprop\n",
    "\n",
    "lenet_net_new = SecondModel_new()\n",
    "lenet_net_new.to(device)\n",
    "\n",
    "lenet_new_history_RMSprop = train_model(lenet_net_new, train_dataloader, optimizer='RMSprop', epochs=50)"
   ]
  },
  {
   "cell_type": "code",
   "execution_count": 38,
   "metadata": {
    "colab": {
     "base_uri": "https://localhost:8080/"
    },
    "id": "yR02tAV1UTU4",
    "outputId": "cf5c9663-a673-47c1-fe09-b0738a18212e"
   },
   "outputs": [
    {
     "name": "stdout",
     "output_type": "stream",
     "text": [
      "Обучение завершено!!!\n",
      "Accuracy_train: 0.9915, Loss_train: 0.0228, Accuracy_val: 0.8977, Loss_val: 0.7133\n"
     ]
    }
   ],
   "source": [
    "# LeNet_new + SGD\n",
    "\n",
    "lenet_net_new = SecondModel_new()\n",
    "lenet_net_new.to(device)\n",
    "\n",
    "lenet_new_history_SGD = train_model(lenet_net_new, train_dataloader, optimizer='SGD', epochs=50)"
   ]
  },
  {
   "cell_type": "markdown",
   "metadata": {
    "id": "LMW_e0xhUx0a"
   },
   "source": [
    "Третью модель рассмотрим ResNet50\n"
   ]
  },
  {
   "cell_type": "code",
   "execution_count": 39,
   "metadata": {
    "id": "Ruor0E5ZkxUx"
   },
   "outputs": [],
   "source": [
    "class block(nn.Module):\n",
    "    def __init__(\n",
    "        self, in_channels, intermediate_channels, identity_downsample=None, stride=1\n",
    "    ):\n",
    "        super(block, self).__init__()\n",
    "        self.expansion = 4\n",
    "        self.conv1 = nn.Conv2d(\n",
    "            in_channels, intermediate_channels, kernel_size=1, stride=1, padding=0\n",
    "        )\n",
    "        self.bn1 = nn.BatchNorm2d(intermediate_channels)\n",
    "        self.conv2 = nn.Conv2d(\n",
    "            intermediate_channels,\n",
    "            intermediate_channels,\n",
    "            kernel_size=3,\n",
    "            stride=stride,\n",
    "            padding=1,\n",
    "        )\n",
    "        self.bn2 = nn.BatchNorm2d(intermediate_channels)\n",
    "        self.conv3 = nn.Conv2d(\n",
    "            intermediate_channels,\n",
    "            intermediate_channels * self.expansion,\n",
    "            kernel_size=1,\n",
    "            stride=1,\n",
    "            padding=0,\n",
    "        )\n",
    "        self.bn3 = nn.BatchNorm2d(intermediate_channels * self.expansion)\n",
    "        self.relu = nn.ReLU()\n",
    "        self.identity_downsample = identity_downsample\n",
    "        self.stride = stride\n",
    "\n",
    "    def forward(self, x):\n",
    "        identity = x.clone()\n",
    "\n",
    "        x = self.conv1(x)\n",
    "        x = self.bn1(x)\n",
    "        x = self.relu(x)\n",
    "        x = self.conv2(x)\n",
    "        x = self.bn2(x)\n",
    "        x = self.relu(x)\n",
    "        x = self.conv3(x)\n",
    "        x = self.bn3(x)\n",
    "\n",
    "        if self.identity_downsample is not None:\n",
    "            identity = self.identity_downsample(identity)\n",
    "\n",
    "        x += identity\n",
    "        x = self.relu(x)\n",
    "        return x"
   ]
  },
  {
   "cell_type": "code",
   "execution_count": 40,
   "metadata": {
    "id": "ZgqQ6FagysBQ"
   },
   "outputs": [],
   "source": [
    "class ThirdModel(nn.Module):\n",
    "    def __init__(self, block, layers, image_channels, num_classes):\n",
    "        super(ThirdModel, self).__init__()\n",
    "        self.in_channels = 64\n",
    "        self.conv1 = nn.Conv2d(image_channels, 64, kernel_size=7, stride=2, padding=3)\n",
    "        self.bn1 = nn.BatchNorm2d(64)\n",
    "        self.relu = nn.ReLU()\n",
    "        self.maxpool = nn.MaxPool2d(kernel_size=3, stride=2, padding=1)\n",
    "\n",
    "        # 4 блока\n",
    "        self.layer1 = self._make_layer(\n",
    "            block, layers[0], intermediate_channels=64, stride=1\n",
    "        )\n",
    "        self.layer2 = self._make_layer(\n",
    "            block, layers[1], intermediate_channels=128, stride=2\n",
    "        )\n",
    "        self.layer3 = self._make_layer(\n",
    "            block, layers[2], intermediate_channels=256, stride=2\n",
    "        )\n",
    "        self.layer4 = self._make_layer(\n",
    "            block, layers[3], intermediate_channels=512, stride=2\n",
    "        )\n",
    "\n",
    "        self.avgpool = nn.AvgPool2d((1, 1))\n",
    "        self.fc = nn.Linear(512 * 4, num_classes)\n",
    "\n",
    "    def forward(self, x):\n",
    "        x = self.conv1(x)\n",
    "        x = self.bn1(x)\n",
    "        x = self.relu(x)\n",
    "        x = self.maxpool(x)\n",
    "        x = self.layer1(x)\n",
    "        x = self.layer2(x)\n",
    "        x = self.layer3(x)\n",
    "        x = self.layer4(x)\n",
    "\n",
    "        x = self.avgpool(x)\n",
    "        x = x.reshape(x.shape[0], -1)\n",
    "        x = self.fc(x)\n",
    "\n",
    "        return x\n",
    "\n",
    "    def _make_layer(self, block, num_residual_blocks, intermediate_channels, stride):\n",
    "        identity_downsample = None\n",
    "        layers = []\n",
    "\n",
    "        if stride != 1 or self.in_channels != intermediate_channels * 4:\n",
    "            identity_downsample = nn.Sequential(\n",
    "                nn.Conv2d(\n",
    "                    self.in_channels,\n",
    "                    intermediate_channels * 4,\n",
    "                    kernel_size=1,\n",
    "                    stride=stride,\n",
    "                ),\n",
    "                nn.BatchNorm2d(intermediate_channels * 4),\n",
    "            )\n",
    "\n",
    "        layers.append(\n",
    "            block(self.in_channels, intermediate_channels, identity_downsample, stride)\n",
    "        )\n",
    "\n",
    "        self.in_channels = intermediate_channels * 4\n",
    "        \n",
    "        for i in range(num_residual_blocks - 1):\n",
    "            layers.append(block(self.in_channels, intermediate_channels))\n",
    "\n",
    "        return nn.Sequential(*layers)"
   ]
  },
  {
   "cell_type": "code",
   "execution_count": 41,
   "metadata": {
    "colab": {
     "base_uri": "https://localhost:8080/"
    },
    "id": "RidwK2rFVvYM",
    "outputId": "1ad53361-c6bc-4adf-fb76-d99c216ea685"
   },
   "outputs": [
    {
     "name": "stdout",
     "output_type": "stream",
     "text": [
      "Обучение завершено!!!\n",
      "Accuracy_train: 0.9941, Loss_train: 0.0176, Accuracy_val: 0.8922, Loss_val: 0.8318\n"
     ]
    }
   ],
   "source": [
    "# ResNet + RMSprop\n",
    "\n",
    "resnet = ThirdModel(block, [3, 4, 6, 3], 1, 10)\n",
    "resnet.to(device)\n",
    "\n",
    "resnet_history_RMSprop = train_model(resnet, train_dataloader, optimizer='RMSprop', epochs=50)"
   ]
  },
  {
   "cell_type": "code",
   "execution_count": 42,
   "metadata": {
    "colab": {
     "base_uri": "https://localhost:8080/"
    },
    "id": "PPxiEzjMVvhW",
    "outputId": "c6f2fa71-096c-486e-aa29-fdacf052f96c"
   },
   "outputs": [
    {
     "name": "stdout",
     "output_type": "stream",
     "text": [
      "Обучение завершено!!!\n",
      "Accuracy_train: 0.9963, Loss_train: 0.0110, Accuracy_val: 0.9118, Loss_val: 0.5736\n"
     ]
    }
   ],
   "source": [
    "# ResNet + SGD\n",
    "\n",
    "resnet = ThirdModel(block, [3, 4, 6, 3], 1, 10)\n",
    "resnet.to(device)\n",
    "\n",
    "resnet_history_SGD = train_model(resnet, train_dataloader, optimizer='SGD', epochs=50)"
   ]
  },
  {
   "cell_type": "markdown",
   "metadata": {
    "id": "7pakn7UMW5_Z"
   },
   "source": [
    "### Результаты"
   ]
  },
  {
   "cell_type": "markdown",
   "metadata": {
    "id": "Vo_Nu3KMhbd4"
   },
   "source": [
    "###Первый график\n",
    "Зависимость accuracy_train от кол-во итераций"
   ]
  },
  {
   "cell_type": "markdown",
   "metadata": {
    "id": "ifu0HHLblCES"
   },
   "source": [
    "Из-за того, что я ошибся пришлось данные с lenet урезать, так как там было 100 эпох,а все остальные модели обучались на 50 эпохах."
   ]
  },
  {
   "cell_type": "code",
   "execution_count": 59,
   "metadata": {
    "colab": {
     "base_uri": "https://localhost:8080/",
     "height": 404
    },
    "id": "z9vCQ8aTgzt1",
    "outputId": "091d1f2f-bb8d-4d3e-c101-471a551dfb7f"
   },
   "outputs": [
    {
     "data": {
      "image/png": "[encoded data removed]",
      "text/plain": [
       "<Figure size 1008x432 with 1 Axes>"
      ]
     },
     "metadata": {
      "needs_background": "light",
      "tags": []
     },
     "output_type": "display_data"
    }
   ],
   "source": [
    "X = np.arange(len(mnist_history_SGD['accuracy_train_mean_epoch']))\n",
    "plt.figure(figsize=(14,6))\n",
    "plt.plot(X, mnist_history_SGD['accuracy_train_mean_epoch'], X, mnist_history_RMSprop['accuracy_train_mean_epoch'],\n",
    "         X, lenet_old_history_SGD['accuracy_train_mean_epoch'][:23450], X, lenet_old_history_RMSprop['accuracy_train_mean_epoch'][:23450],\n",
    "         X, lenet_new_history_SGD['accuracy_train_mean_epoch'][:23450], X, lenet_new_history_RMSprop['accuracy_train_mean_epoch'][:23450],\n",
    "         X, resnet_history_SGD['accuracy_train_mean_epoch'], X, resnet_history_RMSprop['accuracy_train_mean_epoch'],\n",
    "         alpha=1)\n",
    "plt.title('Зависимость accuracy_train от кол-ва итераций')\n",
    "plt.xlabel('Кол-во итераций')\n",
    "plt.ylabel('Accuracy')\n",
    "plt.legend(['linear model + SGD', 'linear model + RMSprop',\n",
    "            'LeNet old model + SGD', 'LeNet old model +  + RMSprop',\n",
    "            'LeNet new model + SGD', 'LeNet new model +  + RMSprop',\n",
    "            'ResNet model + SGD', 'ResNet model + RMSprop'])\n",
    "\n",
    "plt.show()"
   ]
  },
  {
   "cell_type": "markdown",
   "metadata": {
    "id": "yau8uSawiI5a"
   },
   "source": [
    "###Второй график\n",
    "Зависимость accuracy_validation от кол-во итераций"
   ]
  },
  {
   "cell_type": "code",
   "execution_count": 57,
   "metadata": {
    "colab": {
     "base_uri": "https://localhost:8080/",
     "height": 404
    },
    "id": "3vjoaQRkgz1L",
    "outputId": "e4d8f4d6-d993-4109-fe53-8324b550dbcb"
   },
   "outputs": [
    {
     "data": {
      "image/png": "[encoded data removed]",
      "text/plain": [
       "<Figure size 1008x432 with 1 Axes>"
      ]
     },
     "metadata": {
      "needs_background": "light",
      "tags": []
     },
     "output_type": "display_data"
    }
   ],
   "source": [
    "X = np.arange(len(mnist_history_SGD['accuracy_validation_mean_epoch']))\n",
    "plt.figure(figsize=(14,6))\n",
    "plt.plot(X, mnist_history_SGD['accuracy_validation_mean_epoch'], X, mnist_history_RMSprop['accuracy_validation_mean_epoch'],\n",
    "         X, lenet_old_history_SGD['accuracy_validation_mean_epoch'][:23450], X, lenet_old_history_RMSprop['accuracy_validation_mean_epoch'][:23450],\n",
    "         X, lenet_new_history_SGD['accuracy_validation_mean_epoch'][:23450], X, lenet_new_history_RMSprop['accuracy_validation_mean_epoch'][:23450],\n",
    "         X, resnet_history_SGD['accuracy_validation_mean_epoch'], X, resnet_history_RMSprop['accuracy_validation_mean_epoch'],\n",
    "         alpha=1)\n",
    "plt.title('Зависимость accuracy_validation от кол-ва итераций')\n",
    "plt.xlabel('Кол-во итераций')\n",
    "plt.ylabel('Accuracy')\n",
    "plt.legend(['linear model + SGD', 'linear model + RMSprop',\n",
    "            'LeNet old model + SGD', 'LeNet old model +  + RMSprop',\n",
    "            'LeNet new model + SGD', 'LeNet new model +  + RMSprop',\n",
    "            'ResNet model + SGD', 'ResNet model + RMSprop'])\n",
    "\n",
    "plt.show()"
   ]
  },
  {
   "cell_type": "markdown",
   "metadata": {
    "id": "flTCV4U7bbIT"
   },
   "source": [
    "###Третий график\n",
    "Зависимость loss_train от кол-ва итераций"
   ]
  },
  {
   "cell_type": "code",
   "execution_count": 58,
   "metadata": {
    "colab": {
     "base_uri": "https://localhost:8080/",
     "height": 404
    },
    "id": "MgQUfI6WWUmo",
    "outputId": "f65909c0-e096-451f-d0ee-bd620e2acdd3"
   },
   "outputs": [
    {
     "data": {
      "image/png": "[encoded data removed]",
      "text/plain": [
       "<Figure size 1008x432 with 1 Axes>"
      ]
     },
     "metadata": {
      "needs_background": "light",
      "tags": []
     },
     "output_type": "display_data"
    }
   ],
   "source": [
    "X = np.arange(len(mnist_history_SGD['loss_train_mean_epoch']))\n",
    "plt.figure(figsize=(14,6))\n",
    "plt.plot(X, mnist_history_SGD['loss_train_mean_epoch'], X, mnist_history_RMSprop['loss_train_mean_epoch'],\n",
    "         X, lenet_old_history_SGD['loss_train_mean_epoch'][:23450], X, lenet_old_history_RMSprop['loss_train_mean_epoch'][:23450],\n",
    "         X, lenet_new_history_SGD['loss_train_mean_epoch'][:23450], X, lenet_new_history_RMSprop['loss_train_mean_epoch'][:23450],\n",
    "         X, resnet_history_SGD['loss_train_mean_epoch'], X, resnet_history_RMSprop['loss_train_mean_epoch'],\n",
    "         alpha=1)\n",
    "plt.title('Зависимость loss_train от кол-ва итераций')\n",
    "plt.xlabel('Кол-во итераций')\n",
    "plt.ylabel('Loss')\n",
    "plt.legend(['linear model + SGD', 'linear model + RMSprop',\n",
    "            'LeNet old model + SGD', 'LeNet old model +  + RMSprop',\n",
    "            'LeNet new model + SGD', 'LeNet new model +  + RMSprop',\n",
    "            'ResNet model + SGD', 'ResNet model + RMSprop'])\n",
    "\n",
    "plt.show()"
   ]
  },
  {
   "cell_type": "markdown",
   "metadata": {
    "id": "vojTEtMSf-Io"
   },
   "source": [
    "###Четвертый график\n",
    "Зависимость loss_validation от кол-ва итераций"
   ]
  },
  {
   "cell_type": "code",
   "execution_count": 60,
   "metadata": {
    "colab": {
     "base_uri": "https://localhost:8080/",
     "height": 404
    },
    "id": "Y7pDg-tbf9jw",
    "outputId": "03cee62c-7c95-449a-95c4-92068bc8e439"
   },
   "outputs": [
    {
     "data": {
      "image/png": "[encoded data removed]",
      "text/plain": [
       "<Figure size 1008x432 with 1 Axes>"
      ]
     },
     "metadata": {
      "needs_background": "light",
      "tags": []
     },
     "output_type": "display_data"
    }
   ],
   "source": [
    "X = np.arange(len(mnist_history_SGD['loss_validation_mean_epoch']))\n",
    "plt.figure(figsize=(14,6))\n",
    "plt.plot(X, mnist_history_SGD['loss_validation_mean_epoch'], X, mnist_history_RMSprop['loss_validation_mean_epoch'],\n",
    "         X, lenet_old_history_SGD['loss_validation_mean_epoch'][:23450], X, lenet_old_history_RMSprop['loss_validation_mean_epoch'][:23450],\n",
    "         X, lenet_new_history_SGD['loss_validation_mean_epoch'][:23450], X, lenet_new_history_RMSprop['loss_validation_mean_epoch'][:23450],\n",
    "         X, resnet_history_SGD['loss_validation_mean_epoch'], X, resnet_history_RMSprop['loss_validation_mean_epoch'],\n",
    "         alpha=1)\n",
    "plt.title('Зависимость loss_validation от кол-ва итераций')\n",
    "plt.xlabel('Кол-во итераций')\n",
    "plt.ylabel('Loss')\n",
    "plt.legend(['linear model + SGD', 'linear model + RMSprop',\n",
    "            'LeNet old model + SGD', 'LeNet old model +  + RMSprop',\n",
    "            'LeNet new model + SGD', 'LeNet new model +  + RMSprop',\n",
    "            'ResNet model + SGD', 'ResNet model + RMSprop'])\n",
    "\n",
    "plt.show()"
   ]
  },
  {
   "cell_type": "markdown",
   "metadata": {
    "id": "iv0lkRhngR5v"
   },
   "source": [
    "У нас на есть три основные модели:\n",
    "\n",
    "1.   Простая полносвязная модель\n",
    "2.   LeNet(1998) оригинальная версия\n",
    "3.   LeNet немного усовершенствованная версия\n",
    "4.   ResNet\n",
    "\n",
    "Для начала сравним LeNet_new и LeNet_old.\n",
    "\n",
    "\n",
    "*   На *accuracy_train*, LeNet_old + RMSprop показал плохие результаты (долго сходился), остальные почти одинаково сошлись\n",
    "*   На *accuracy_validation* аналогичная ситуация\n",
    "*   На *loss_train*, LeNet_old + RMSprop опять показал плохие результаты, зато LeNet_new+SGD лидирует, LeNet_new + RMSprop и LeNet_old + SGD показывают похожие результаты, хотя new+RMSprop думаю при большой итерации быстрее уменьшит loss\n",
    "*   На *loss_validation*, LeNet_new + SGD очень быстро переобучилась, зато остальные модели более стабильны к переобучению\n",
    "\n",
    "\n",
    "Отсюда можно сделать вывод, что LeNet_new быстрее сходится, но с SGD возможно быстрое переобучение, поэтому лучше всего использовать RMSprop, так как он более устойчив к нему\n",
    "\n",
    "\n",
    "\n",
    "\n",
    "\n",
    "\n"
   ]
  },
  {
   "cell_type": "markdown",
   "metadata": {
    "id": "AV-eW3ENrD4e"
   },
   "source": [
    "График *loss_validation* вынес отдельно, для того чтобы наглядно посмотреть различия между версиями LeNet"
   ]
  },
  {
   "cell_type": "code",
   "execution_count": 61,
   "metadata": {
    "colab": {
     "base_uri": "https://localhost:8080/",
     "height": 404
    },
    "id": "nDeb7SkogSBb",
    "outputId": "b0be3242-00c7-4aa0-dce4-9c105e6b48da"
   },
   "outputs": [
    {
     "data": {
      "image/png": "[encoded data removed]",
      "text/plain": [
       "<Figure size 1008x432 with 1 Axes>"
      ]
     },
     "metadata": {
      "needs_background": "light",
      "tags": []
     },
     "output_type": "display_data"
    }
   ],
   "source": [
    "X = np.arange(len(mnist_history_SGD['loss_validation_mean_epoch']))\n",
    "plt.figure(figsize=(14,6))\n",
    "plt.plot(\n",
    "         X, lenet_old_history_SGD['loss_validation_mean_epoch'][:23450], X, lenet_old_history_RMSprop['loss_validation_mean_epoch'][:23450],\n",
    "         X, lenet_new_history_SGD['loss_validation_mean_epoch'][:23450], X, lenet_new_history_RMSprop['loss_validation_mean_epoch'][:23450],\n",
    "        \n",
    "         alpha=1)\n",
    "plt.title('Зависимость loss_validation от кол-ва итераций')\n",
    "plt.xlabel('Кол-во итераций')\n",
    "plt.ylabel('Loss')\n",
    "plt.legend([\n",
    "            'LeNet old model + SGD', 'LeNet old model +  + RMSprop',\n",
    "            'LeNet new model + SGD', 'LeNet new model +  + RMSprop',\n",
    "            ])\n",
    "\n",
    "plt.show()"
   ]
  },
  {
   "cell_type": "markdown",
   "metadata": {
    "id": "J8HglkM3ro0W"
   },
   "source": [
    "Так же на графиках видно, как ResNet довольно быстро сходится, но имеет быстрое переобучение. ResNet+SGD показал лучшее результаты, быстро сходится и имеет менее выраженное переобучение по сравнению с RMSprop. \n",
    "\n"
   ]
  },
  {
   "cell_type": "markdown",
   "metadata": {
    "id": "DQS8x_gJrox4"
   },
   "source": [
    "Linear model + SGD показал, лучшее результаты(быстрое схождение,а так же устойчивость к переобучению) по сравнению с RMSprop."
   ]
  }
 ],
 "metadata": {
  "accelerator": "GPU",
  "colab": {
   "collapsed_sections": [],
   "name": "Homework_IAD_1.ipynb",
   "provenance": []
  },
  "kernelspec": {
   "display_name": "Python 2",
   "language": "python",
   "name": "python2"
  },
  "language_info": {
   "codemirror_mode": {
    "name": "ipython",
    "version": 2
   },
   "file_extension": ".py",
   "mimetype": "text/x-python",
   "name": "python",
   "nbconvert_exporter": "python",
   "pygments_lexer": "ipython2",
   "version": "2.7.6"
  },
  "widgets": {
   "application/vnd.jupyter.widget-state+json": {
    "03bbe989d2b84d1686982ee5ac53e334": {
     "model_module": "@jupyter-widgets/base",
     "model_name": "LayoutModel",
     "state": {
      "_model_module": "@jupyter-widgets/base",
      "_model_module_version": "1.2.0",
      "_model_name": "LayoutModel",
      "_view_count": null,
      "_view_module": "@jupyter-widgets/base",
      "_view_module_version": "1.2.0",
      "_view_name": "LayoutView",
      "align_content": null,
      "align_items": null,
      "align_self": null,
      "border": null,
      "bottom": null,
      "display": null,
      "flex": null,
      "flex_flow": null,
      "grid_area": null,
      "grid_auto_columns": null,
      "grid_auto_flow": null,
      "grid_auto_rows": null,
      "grid_column": null,
      "grid_gap": null,
      "grid_row": null,
      "grid_template_areas": null,
      "grid_template_columns": null,
      "grid_template_rows": null,
      "height": null,
      "justify_content": null,
      "justify_items": null,
      "left": null,
      "margin": null,
      "max_height": null,
      "max_width": null,
      "min_height": null,
      "min_width": null,
      "object_fit": null,
      "object_position": null,
      "order": null,
      "overflow": null,
      "overflow_x": null,
      "overflow_y": null,
      "padding": null,
      "right": null,
      "top": null,
      "visibility": null,
      "width": null
     }
    },
    "1450281368d74514801ee499f837e3ef": {
     "model_module": "@jupyter-widgets/base",
     "model_name": "LayoutModel",
     "state": {
      "_model_module": "@jupyter-widgets/base",
      "_model_module_version": "1.2.0",
      "_model_name": "LayoutModel",
      "_view_count": null,
      "_view_module": "@jupyter-widgets/base",
      "_view_module_version": "1.2.0",
      "_view_name": "LayoutView",
      "align_content": null,
      "align_items": null,
      "align_self": null,
      "border": null,
      "bottom": null,
      "display": null,
      "flex": null,
      "flex_flow": null,
      "grid_area": null,
      "grid_auto_columns": null,
      "grid_auto_flow": null,
      "grid_auto_rows": null,
      "grid_column": null,
      "grid_gap": null,
      "grid_row": null,
      "grid_template_areas": null,
      "grid_template_columns": null,
      "grid_template_rows": null,
      "height": null,
      "justify_content": null,
      "justify_items": null,
      "left": null,
      "margin": null,
      "max_height": null,
      "max_width": null,
      "min_height": null,
      "min_width": null,
      "object_fit": null,
      "object_position": null,
      "order": null,
      "overflow": null,
      "overflow_x": null,
      "overflow_y": null,
      "padding": null,
      "right": null,
      "top": null,
      "visibility": null,
      "width": null
     }
    },
    "19823d3f13264b4aaac79de8542e352a": {
     "model_module": "@jupyter-widgets/base",
     "model_name": "LayoutModel",
     "state": {
      "_model_module": "@jupyter-widgets/base",
      "_model_module_version": "1.2.0",
      "_model_name": "LayoutModel",
      "_view_count": null,
      "_view_module": "@jupyter-widgets/base",
      "_view_module_version": "1.2.0",
      "_view_name": "LayoutView",
      "align_content": null,
      "align_items": null,
      "align_self": null,
      "border": null,
      "bottom": null,
      "display": null,
      "flex": null,
      "flex_flow": null,
      "grid_area": null,
      "grid_auto_columns": null,
      "grid_auto_flow": null,
      "grid_auto_rows": null,
      "grid_column": null,
      "grid_gap": null,
      "grid_row": null,
      "grid_template_areas": null,
      "grid_template_columns": null,
      "grid_template_rows": null,
      "height": null,
      "justify_content": null,
      "justify_items": null,
      "left": null,
      "margin": null,
      "max_height": null,
      "max_width": null,
      "min_height": null,
      "min_width": null,
      "object_fit": null,
      "object_position": null,
      "order": null,
      "overflow": null,
      "overflow_x": null,
      "overflow_y": null,
      "padding": null,
      "right": null,
      "top": null,
      "visibility": null,
      "width": null
     }
    },
    "24354157b00e44c8ab6553cc3ab7c932": {
     "model_module": "@jupyter-widgets/base",
     "model_name": "LayoutModel",
     "state": {
      "_model_module": "@jupyter-widgets/base",
      "_model_module_version": "1.2.0",
      "_model_name": "LayoutModel",
      "_view_count": null,
      "_view_module": "@jupyter-widgets/base",
      "_view_module_version": "1.2.0",
      "_view_name": "LayoutView",
      "align_content": null,
      "align_items": null,
      "align_self": null,
      "border": null,
      "bottom": null,
      "display": null,
      "flex": null,
      "flex_flow": null,
      "grid_area": null,
      "grid_auto_columns": null,
      "grid_auto_flow": null,
      "grid_auto_rows": null,
      "grid_column": null,
      "grid_gap": null,
      "grid_row": null,
      "grid_template_areas": null,
      "grid_template_columns": null,
      "grid_template_rows": null,
      "height": null,
      "justify_content": null,
      "justify_items": null,
      "left": null,
      "margin": null,
      "max_height": null,
      "max_width": null,
      "min_height": null,
      "min_width": null,
      "object_fit": null,
      "object_position": null,
      "order": null,
      "overflow": null,
      "overflow_x": null,
      "overflow_y": null,
      "padding": null,
      "right": null,
      "top": null,
      "visibility": null,
      "width": null
     }
    },
    "346b8c40ff6d409e94f54bc75c71ee99": {
     "model_module": "@jupyter-widgets/controls",
     "model_name": "DescriptionStyleModel",
     "state": {
      "_model_module": "@jupyter-widgets/controls",
      "_model_module_version": "1.5.0",
      "_model_name": "DescriptionStyleModel",
      "_view_count": null,
      "_view_module": "@jupyter-widgets/base",
      "_view_module_version": "1.2.0",
      "_view_name": "StyleView",
      "description_width": ""
     }
    },
    "391888a1a721468cb1ac5b3bd407948c": {
     "model_module": "@jupyter-widgets/controls",
     "model_name": "DescriptionStyleModel",
     "state": {
      "_model_module": "@jupyter-widgets/controls",
      "_model_module_version": "1.5.0",
      "_model_name": "DescriptionStyleModel",
      "_view_count": null,
      "_view_module": "@jupyter-widgets/base",
      "_view_module_version": "1.2.0",
      "_view_name": "StyleView",
      "description_width": ""
     }
    },
    "3a23b8b9f14b4bf48261fdc37e6e0f8b": {
     "model_module": "@jupyter-widgets/controls",
     "model_name": "HTMLModel",
     "state": {
      "_dom_classes": [],
      "_model_module": "@jupyter-widgets/controls",
      "_model_module_version": "1.5.0",
      "_model_name": "HTMLModel",
      "_view_count": null,
      "_view_module": "@jupyter-widgets/controls",
      "_view_module_version": "1.5.0",
      "_view_name": "HTMLView",
      "description": "",
      "description_tooltip": null,
      "layout": "IPY_MODEL_6f1e0d2e460047029840e3c0500e332b",
      "placeholder": "​",
      "style": "IPY_MODEL_9a3d0767b04c455899122273ea733931",
      "value": " 26427392/? [00:20&lt;00:00, 6920224.97it/s]"
     }
    },
    "6091a2c183cb4f46b988333e22cbb664": {
     "model_module": "@jupyter-widgets/controls",
     "model_name": "FloatProgressModel",
     "state": {
      "_dom_classes": [],
      "_model_module": "@jupyter-widgets/controls",
      "_model_module_version": "1.5.0",
      "_model_name": "FloatProgressModel",
      "_view_count": null,
      "_view_module": "@jupyter-widgets/controls",
      "_view_module_version": "1.5.0",
      "_view_name": "ProgressView",
      "bar_style": "success",
      "description": "",
      "description_tooltip": null,
      "layout": "IPY_MODEL_c9ca7e93daf94e8d9855ea820da96108",
      "max": 1,
      "min": 0,
      "orientation": "horizontal",
      "style": "IPY_MODEL_b6278ba6fa714f28a86992f012bdfc02",
      "value": 1
     }
    },
    "6520d0e7d9b94edfac62e0b0c33a8e1a": {
     "model_module": "@jupyter-widgets/base",
     "model_name": "LayoutModel",
     "state": {
      "_model_module": "@jupyter-widgets/base",
      "_model_module_version": "1.2.0",
      "_model_name": "LayoutModel",
      "_view_count": null,
      "_view_module": "@jupyter-widgets/base",
      "_view_module_version": "1.2.0",
      "_view_name": "LayoutView",
      "align_content": null,
      "align_items": null,
      "align_self": null,
      "border": null,
      "bottom": null,
      "display": null,
      "flex": null,
      "flex_flow": null,
      "grid_area": null,
      "grid_auto_columns": null,
      "grid_auto_flow": null,
      "grid_auto_rows": null,
      "grid_column": null,
      "grid_gap": null,
      "grid_row": null,
      "grid_template_areas": null,
      "grid_template_columns": null,
      "grid_template_rows": null,
      "height": null,
      "justify_content": null,
      "justify_items": null,
      "left": null,
      "margin": null,
      "max_height": null,
      "max_width": null,
      "min_height": null,
      "min_width": null,
      "object_fit": null,
      "object_position": null,
      "order": null,
      "overflow": null,
      "overflow_x": null,
      "overflow_y": null,
      "padding": null,
      "right": null,
      "top": null,
      "visibility": null,
      "width": null
     }
    },
    "6578934186364c00b41681f4738aac4d": {
     "model_module": "@jupyter-widgets/controls",
     "model_name": "HBoxModel",
     "state": {
      "_dom_classes": [],
      "_model_module": "@jupyter-widgets/controls",
      "_model_module_version": "1.5.0",
      "_model_name": "HBoxModel",
      "_view_count": null,
      "_view_module": "@jupyter-widgets/controls",
      "_view_module_version": "1.5.0",
      "_view_name": "HBoxView",
      "box_style": "",
      "children": [
       "IPY_MODEL_99cd31eae6224846b2b36b8c3ad823a5",
       "IPY_MODEL_a18889ff8c24488cb1d4f2a0a95d21ab"
      ],
      "layout": "IPY_MODEL_6520d0e7d9b94edfac62e0b0c33a8e1a"
     }
    },
    "663726879b7b456ab85b0312f9637402": {
     "model_module": "@jupyter-widgets/base",
     "model_name": "LayoutModel",
     "state": {
      "_model_module": "@jupyter-widgets/base",
      "_model_module_version": "1.2.0",
      "_model_name": "LayoutModel",
      "_view_count": null,
      "_view_module": "@jupyter-widgets/base",
      "_view_module_version": "1.2.0",
      "_view_name": "LayoutView",
      "align_content": null,
      "align_items": null,
      "align_self": null,
      "border": null,
      "bottom": null,
      "display": null,
      "flex": null,
      "flex_flow": null,
      "grid_area": null,
      "grid_auto_columns": null,
      "grid_auto_flow": null,
      "grid_auto_rows": null,
      "grid_column": null,
      "grid_gap": null,
      "grid_row": null,
      "grid_template_areas": null,
      "grid_template_columns": null,
      "grid_template_rows": null,
      "height": null,
      "justify_content": null,
      "justify_items": null,
      "left": null,
      "margin": null,
      "max_height": null,
      "max_width": null,
      "min_height": null,
      "min_width": null,
      "object_fit": null,
      "object_position": null,
      "order": null,
      "overflow": null,
      "overflow_x": null,
      "overflow_y": null,
      "padding": null,
      "right": null,
      "top": null,
      "visibility": null,
      "width": null
     }
    },
    "6dd95312fdec403fa5b4e549da32f72c": {
     "model_module": "@jupyter-widgets/controls",
     "model_name": "FloatProgressModel",
     "state": {
      "_dom_classes": [],
      "_model_module": "@jupyter-widgets/controls",
      "_model_module_version": "1.5.0",
      "_model_name": "FloatProgressModel",
      "_view_count": null,
      "_view_module": "@jupyter-widgets/controls",
      "_view_module_version": "1.5.0",
      "_view_name": "ProgressView",
      "bar_style": "info",
      "description": "",
      "description_tooltip": null,
      "layout": "IPY_MODEL_d1d5c14acaa740189819cddaec63dabe",
      "max": 1,
      "min": 0,
      "orientation": "horizontal",
      "style": "IPY_MODEL_fc66544389d54888a17994837598d963",
      "value": 1
     }
    },
    "6f1e0d2e460047029840e3c0500e332b": {
     "model_module": "@jupyter-widgets/base",
     "model_name": "LayoutModel",
     "state": {
      "_model_module": "@jupyter-widgets/base",
      "_model_module_version": "1.2.0",
      "_model_name": "LayoutModel",
      "_view_count": null,
      "_view_module": "@jupyter-widgets/base",
      "_view_module_version": "1.2.0",
      "_view_name": "LayoutView",
      "align_content": null,
      "align_items": null,
      "align_self": null,
      "border": null,
      "bottom": null,
      "display": null,
      "flex": null,
      "flex_flow": null,
      "grid_area": null,
      "grid_auto_columns": null,
      "grid_auto_flow": null,
      "grid_auto_rows": null,
      "grid_column": null,
      "grid_gap": null,
      "grid_row": null,
      "grid_template_areas": null,
      "grid_template_columns": null,
      "grid_template_rows": null,
      "height": null,
      "justify_content": null,
      "justify_items": null,
      "left": null,
      "margin": null,
      "max_height": null,
      "max_width": null,
      "min_height": null,
      "min_width": null,
      "object_fit": null,
      "object_position": null,
      "order": null,
      "overflow": null,
      "overflow_x": null,
      "overflow_y": null,
      "padding": null,
      "right": null,
      "top": null,
      "visibility": null,
      "width": null
     }
    },
    "7e9606879a394d7b8260f6c9c908288f": {
     "model_module": "@jupyter-widgets/base",
     "model_name": "LayoutModel",
     "state": {
      "_model_module": "@jupyter-widgets/base",
      "_model_module_version": "1.2.0",
      "_model_name": "LayoutModel",
      "_view_count": null,
      "_view_module": "@jupyter-widgets/base",
      "_view_module_version": "1.2.0",
      "_view_name": "LayoutView",
      "align_content": null,
      "align_items": null,
      "align_self": null,
      "border": null,
      "bottom": null,
      "display": null,
      "flex": null,
      "flex_flow": null,
      "grid_area": null,
      "grid_auto_columns": null,
      "grid_auto_flow": null,
      "grid_auto_rows": null,
      "grid_column": null,
      "grid_gap": null,
      "grid_row": null,
      "grid_template_areas": null,
      "grid_template_columns": null,
      "grid_template_rows": null,
      "height": null,
      "justify_content": null,
      "justify_items": null,
      "left": null,
      "margin": null,
      "max_height": null,
      "max_width": null,
      "min_height": null,
      "min_width": null,
      "object_fit": null,
      "object_position": null,
      "order": null,
      "overflow": null,
      "overflow_x": null,
      "overflow_y": null,
      "padding": null,
      "right": null,
      "top": null,
      "visibility": null,
      "width": null
     }
    },
    "82a4c99c92284114b6b9cd38ef3e2dcb": {
     "model_module": "@jupyter-widgets/base",
     "model_name": "LayoutModel",
     "state": {
      "_model_module": "@jupyter-widgets/base",
      "_model_module_version": "1.2.0",
      "_model_name": "LayoutModel",
      "_view_count": null,
      "_view_module": "@jupyter-widgets/base",
      "_view_module_version": "1.2.0",
      "_view_name": "LayoutView",
      "align_content": null,
      "align_items": null,
      "align_self": null,
      "border": null,
      "bottom": null,
      "display": null,
      "flex": null,
      "flex_flow": null,
      "grid_area": null,
      "grid_auto_columns": null,
      "grid_auto_flow": null,
      "grid_auto_rows": null,
      "grid_column": null,
      "grid_gap": null,
      "grid_row": null,
      "grid_template_areas": null,
      "grid_template_columns": null,
      "grid_template_rows": null,
      "height": null,
      "justify_content": null,
      "justify_items": null,
      "left": null,
      "margin": null,
      "max_height": null,
      "max_width": null,
      "min_height": null,
      "min_width": null,
      "object_fit": null,
      "object_position": null,
      "order": null,
      "overflow": null,
      "overflow_x": null,
      "overflow_y": null,
      "padding": null,
      "right": null,
      "top": null,
      "visibility": null,
      "width": null
     }
    },
    "83b6328cdd9f48a29e4ff909e7e66dac": {
     "model_module": "@jupyter-widgets/controls",
     "model_name": "DescriptionStyleModel",
     "state": {
      "_model_module": "@jupyter-widgets/controls",
      "_model_module_version": "1.5.0",
      "_model_name": "DescriptionStyleModel",
      "_view_count": null,
      "_view_module": "@jupyter-widgets/base",
      "_view_module_version": "1.2.0",
      "_view_name": "StyleView",
      "description_width": ""
     }
    },
    "99cd31eae6224846b2b36b8c3ad823a5": {
     "model_module": "@jupyter-widgets/controls",
     "model_name": "FloatProgressModel",
     "state": {
      "_dom_classes": [],
      "_model_module": "@jupyter-widgets/controls",
      "_model_module_version": "1.5.0",
      "_model_name": "FloatProgressModel",
      "_view_count": null,
      "_view_module": "@jupyter-widgets/controls",
      "_view_module_version": "1.5.0",
      "_view_name": "ProgressView",
      "bar_style": "success",
      "description": "",
      "description_tooltip": null,
      "layout": "IPY_MODEL_03bbe989d2b84d1686982ee5ac53e334",
      "max": 1,
      "min": 0,
      "orientation": "horizontal",
      "style": "IPY_MODEL_c088dfd7f69240db948fff810a92a1f6",
      "value": 1
     }
    },
    "9a3d0767b04c455899122273ea733931": {
     "model_module": "@jupyter-widgets/controls",
     "model_name": "DescriptionStyleModel",
     "state": {
      "_model_module": "@jupyter-widgets/controls",
      "_model_module_version": "1.5.0",
      "_model_name": "DescriptionStyleModel",
      "_view_count": null,
      "_view_module": "@jupyter-widgets/base",
      "_view_module_version": "1.2.0",
      "_view_name": "StyleView",
      "description_width": ""
     }
    },
    "9a8985a4d0ae4c369198eec507833c8b": {
     "model_module": "@jupyter-widgets/controls",
     "model_name": "HTMLModel",
     "state": {
      "_dom_classes": [],
      "_model_module": "@jupyter-widgets/controls",
      "_model_module_version": "1.5.0",
      "_model_name": "HTMLModel",
      "_view_count": null,
      "_view_module": "@jupyter-widgets/controls",
      "_view_module_version": "1.5.0",
      "_view_name": "HTMLView",
      "description": "",
      "description_tooltip": null,
      "layout": "IPY_MODEL_1450281368d74514801ee499f837e3ef",
      "placeholder": "​",
      "style": "IPY_MODEL_346b8c40ff6d409e94f54bc75c71ee99",
      "value": " 4423680/? [00:01&lt;00:00, 2800528.27it/s]"
     }
    },
    "a18889ff8c24488cb1d4f2a0a95d21ab": {
     "model_module": "@jupyter-widgets/controls",
     "model_name": "HTMLModel",
     "state": {
      "_dom_classes": [],
      "_model_module": "@jupyter-widgets/controls",
      "_model_module_version": "1.5.0",
      "_model_name": "HTMLModel",
      "_view_count": null,
      "_view_module": "@jupyter-widgets/controls",
      "_view_module_version": "1.5.0",
      "_view_name": "HTMLView",
      "description": "",
      "description_tooltip": null,
      "layout": "IPY_MODEL_19823d3f13264b4aaac79de8542e352a",
      "placeholder": "​",
      "style": "IPY_MODEL_83b6328cdd9f48a29e4ff909e7e66dac",
      "value": " 32768/? [00:02&lt;00:00, 16052.62it/s]"
     }
    },
    "a47a131aa3744d768135ac199ea9a7ec": {
     "model_module": "@jupyter-widgets/controls",
     "model_name": "HTMLModel",
     "state": {
      "_dom_classes": [],
      "_model_module": "@jupyter-widgets/controls",
      "_model_module_version": "1.5.0",
      "_model_name": "HTMLModel",
      "_view_count": null,
      "_view_module": "@jupyter-widgets/controls",
      "_view_module_version": "1.5.0",
      "_view_name": "HTMLView",
      "description": "",
      "description_tooltip": null,
      "layout": "IPY_MODEL_82a4c99c92284114b6b9cd38ef3e2dcb",
      "placeholder": "​",
      "style": "IPY_MODEL_391888a1a721468cb1ac5b3bd407948c",
      "value": " 0/5148 [00:00&lt;?, ?it/s]"
     }
    },
    "ad7d37b8c6854678ad421d7adacc747c": {
     "model_module": "@jupyter-widgets/controls",
     "model_name": "ProgressStyleModel",
     "state": {
      "_model_module": "@jupyter-widgets/controls",
      "_model_module_version": "1.5.0",
      "_model_name": "ProgressStyleModel",
      "_view_count": null,
      "_view_module": "@jupyter-widgets/base",
      "_view_module_version": "1.2.0",
      "_view_name": "StyleView",
      "bar_color": null,
      "description_width": "initial"
     }
    },
    "b6278ba6fa714f28a86992f012bdfc02": {
     "model_module": "@jupyter-widgets/controls",
     "model_name": "ProgressStyleModel",
     "state": {
      "_model_module": "@jupyter-widgets/controls",
      "_model_module_version": "1.5.0",
      "_model_name": "ProgressStyleModel",
      "_view_count": null,
      "_view_module": "@jupyter-widgets/base",
      "_view_module_version": "1.2.0",
      "_view_name": "StyleView",
      "bar_color": null,
      "description_width": "initial"
     }
    },
    "bd5921efd5c04744a881f5526cdd5fb7": {
     "model_module": "@jupyter-widgets/controls",
     "model_name": "HBoxModel",
     "state": {
      "_dom_classes": [],
      "_model_module": "@jupyter-widgets/controls",
      "_model_module_version": "1.5.0",
      "_model_name": "HBoxModel",
      "_view_count": null,
      "_view_module": "@jupyter-widgets/controls",
      "_view_module_version": "1.5.0",
      "_view_name": "HBoxView",
      "box_style": "",
      "children": [
       "IPY_MODEL_6091a2c183cb4f46b988333e22cbb664",
       "IPY_MODEL_9a8985a4d0ae4c369198eec507833c8b"
      ],
      "layout": "IPY_MODEL_24354157b00e44c8ab6553cc3ab7c932"
     }
    },
    "c088dfd7f69240db948fff810a92a1f6": {
     "model_module": "@jupyter-widgets/controls",
     "model_name": "ProgressStyleModel",
     "state": {
      "_model_module": "@jupyter-widgets/controls",
      "_model_module_version": "1.5.0",
      "_model_name": "ProgressStyleModel",
      "_view_count": null,
      "_view_module": "@jupyter-widgets/base",
      "_view_module_version": "1.2.0",
      "_view_name": "StyleView",
      "bar_color": null,
      "description_width": "initial"
     }
    },
    "c42b7a866ea24b7e962676ab6676784d": {
     "model_module": "@jupyter-widgets/controls",
     "model_name": "HBoxModel",
     "state": {
      "_dom_classes": [],
      "_model_module": "@jupyter-widgets/controls",
      "_model_module_version": "1.5.0",
      "_model_name": "HBoxModel",
      "_view_count": null,
      "_view_module": "@jupyter-widgets/controls",
      "_view_module_version": "1.5.0",
      "_view_name": "HBoxView",
      "box_style": "",
      "children": [
       "IPY_MODEL_6dd95312fdec403fa5b4e549da32f72c",
       "IPY_MODEL_3a23b8b9f14b4bf48261fdc37e6e0f8b"
      ],
      "layout": "IPY_MODEL_7e9606879a394d7b8260f6c9c908288f"
     }
    },
    "c9ca7e93daf94e8d9855ea820da96108": {
     "model_module": "@jupyter-widgets/base",
     "model_name": "LayoutModel",
     "state": {
      "_model_module": "@jupyter-widgets/base",
      "_model_module_version": "1.2.0",
      "_model_name": "LayoutModel",
      "_view_count": null,
      "_view_module": "@jupyter-widgets/base",
      "_view_module_version": "1.2.0",
      "_view_name": "LayoutView",
      "align_content": null,
      "align_items": null,
      "align_self": null,
      "border": null,
      "bottom": null,
      "display": null,
      "flex": null,
      "flex_flow": null,
      "grid_area": null,
      "grid_auto_columns": null,
      "grid_auto_flow": null,
      "grid_auto_rows": null,
      "grid_column": null,
      "grid_gap": null,
      "grid_row": null,
      "grid_template_areas": null,
      "grid_template_columns": null,
      "grid_template_rows": null,
      "height": null,
      "justify_content": null,
      "justify_items": null,
      "left": null,
      "margin": null,
      "max_height": null,
      "max_width": null,
      "min_height": null,
      "min_width": null,
      "object_fit": null,
      "object_position": null,
      "order": null,
      "overflow": null,
      "overflow_x": null,
      "overflow_y": null,
      "padding": null,
      "right": null,
      "top": null,
      "visibility": null,
      "width": null
     }
    },
    "d1d5c14acaa740189819cddaec63dabe": {
     "model_module": "@jupyter-widgets/base",
     "model_name": "LayoutModel",
     "state": {
      "_model_module": "@jupyter-widgets/base",
      "_model_module_version": "1.2.0",
      "_model_name": "LayoutModel",
      "_view_count": null,
      "_view_module": "@jupyter-widgets/base",
      "_view_module_version": "1.2.0",
      "_view_name": "LayoutView",
      "align_content": null,
      "align_items": null,
      "align_self": null,
      "border": null,
      "bottom": null,
      "display": null,
      "flex": null,
      "flex_flow": null,
      "grid_area": null,
      "grid_auto_columns": null,
      "grid_auto_flow": null,
      "grid_auto_rows": null,
      "grid_column": null,
      "grid_gap": null,
      "grid_row": null,
      "grid_template_areas": null,
      "grid_template_columns": null,
      "grid_template_rows": null,
      "height": null,
      "justify_content": null,
      "justify_items": null,
      "left": null,
      "margin": null,
      "max_height": null,
      "max_width": null,
      "min_height": null,
      "min_width": null,
      "object_fit": null,
      "object_position": null,
      "order": null,
      "overflow": null,
      "overflow_x": null,
      "overflow_y": null,
      "padding": null,
      "right": null,
      "top": null,
      "visibility": null,
      "width": null
     }
    },
    "e18980f0ada24b6a8de247023f2a10c7": {
     "model_module": "@jupyter-widgets/controls",
     "model_name": "FloatProgressModel",
     "state": {
      "_dom_classes": [],
      "_model_module": "@jupyter-widgets/controls",
      "_model_module_version": "1.5.0",
      "_model_name": "FloatProgressModel",
      "_view_count": null,
      "_view_module": "@jupyter-widgets/controls",
      "_view_module_version": "1.5.0",
      "_view_name": "ProgressView",
      "bar_style": "info",
      "description": "  0%",
      "description_tooltip": null,
      "layout": "IPY_MODEL_663726879b7b456ab85b0312f9637402",
      "max": 1,
      "min": 0,
      "orientation": "horizontal",
      "style": "IPY_MODEL_ad7d37b8c6854678ad421d7adacc747c",
      "value": 0
     }
    },
    "ebf11041d913489c843bbca57bce3b51": {
     "model_module": "@jupyter-widgets/controls",
     "model_name": "HBoxModel",
     "state": {
      "_dom_classes": [],
      "_model_module": "@jupyter-widgets/controls",
      "_model_module_version": "1.5.0",
      "_model_name": "HBoxModel",
      "_view_count": null,
      "_view_module": "@jupyter-widgets/controls",
      "_view_module_version": "1.5.0",
      "_view_name": "HBoxView",
      "box_style": "",
      "children": [
       "IPY_MODEL_e18980f0ada24b6a8de247023f2a10c7",
       "IPY_MODEL_a47a131aa3744d768135ac199ea9a7ec"
      ],
      "layout": "IPY_MODEL_f5ea894898c844e6a33cabbc7e1b7c6b"
     }
    },
    "f5ea894898c844e6a33cabbc7e1b7c6b": {
     "model_module": "@jupyter-widgets/base",
     "model_name": "LayoutModel",
     "state": {
      "_model_module": "@jupyter-widgets/base",
      "_model_module_version": "1.2.0",
      "_model_name": "LayoutModel",
      "_view_count": null,
      "_view_module": "@jupyter-widgets/base",
      "_view_module_version": "1.2.0",
      "_view_name": "LayoutView",
      "align_content": null,
      "align_items": null,
      "align_self": null,
      "border": null,
      "bottom": null,
      "display": null,
      "flex": null,
      "flex_flow": null,
      "grid_area": null,
      "grid_auto_columns": null,
      "grid_auto_flow": null,
      "grid_auto_rows": null,
      "grid_column": null,
      "grid_gap": null,
      "grid_row": null,
      "grid_template_areas": null,
      "grid_template_columns": null,
      "grid_template_rows": null,
      "height": null,
      "justify_content": null,
      "justify_items": null,
      "left": null,
      "margin": null,
      "max_height": null,
      "max_width": null,
      "min_height": null,
      "min_width": null,
      "object_fit": null,
      "object_position": null,
      "order": null,
      "overflow": null,
      "overflow_x": null,
      "overflow_y": null,
      "padding": null,
      "right": null,
      "top": null,
      "visibility": null,
      "width": null
     }
    },
    "fc66544389d54888a17994837598d963": {
     "model_module": "@jupyter-widgets/controls",
     "model_name": "ProgressStyleModel",
     "state": {
      "_model_module": "@jupyter-widgets/controls",
      "_model_module_version": "1.5.0",
      "_model_name": "ProgressStyleModel",
      "_view_count": null,
      "_view_module": "@jupyter-widgets/base",
      "_view_module_version": "1.2.0",
      "_view_name": "StyleView",
      "bar_color": null,
      "description_width": "initial"
     }
    }
   }
  }
 },
 "nbformat": 4,
 "nbformat_minor": 1
}
